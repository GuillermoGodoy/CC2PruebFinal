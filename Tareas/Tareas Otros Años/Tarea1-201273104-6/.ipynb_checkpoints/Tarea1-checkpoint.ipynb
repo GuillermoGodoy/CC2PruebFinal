{
 "cells": [
  {
   "cell_type": "markdown",
   "metadata": {},
   "source": [
    "<img src=\"escudo_utfsm.gif\" style=\"float:right;height:100px\">\n",
    "<img src=\"IsotipoDIisocolor.png\" style=\"float:left;height:100px\">\n",
    "<center>\n",
    "    <h1> ILI286 Computación Científica II</h1>\n",
    "    <h1> Tarea N°1: Valores propios Numéricos </h1>\n",
    "    <h3> Francisco Alberto Salazar Herrera</h3>\n",
    "</center>\n",
    "<p>\n",
    "<center>_Marzo 2018_ v1.0</center>\n",
    "</p>"
   ]
  },
  {
   "cell_type": "markdown",
   "metadata": {},
   "source": [
    "# Valores y Vectores Propios"
   ]
  },
  {
   "cell_type": "markdown",
   "metadata": {},
   "source": [
    "La convergencia del método *Power Iteration* depende de varios factores. Considerando que los valores propios están ordenados de acuerdo a su magnitud, siendo $\\lambda_1$ el valor propio dominante, algunos factores son:\n",
    "* El valor de\n",
    "$$\n",
    "\\frac{|\\lambda_2|}{|\\lambda_1|},\n",
    "$$\n",
    "el cual determina la tasa de convergencia.\n",
    "* Las condiciones que pide *Power Iteration* para su convergencia, como por ejemplo que $|\\lambda_1| > |\\lambda_i|, i\\in\\{2,3,\\dots, n\\}$.\n",
    "* Si el *initial guess* es escrito como una combinación lineal de los vectores propios de la matriz:\n",
    "$$\n",
    "    \\mathbf{x}_0 = c_1\\mathbf{v}_1 + c_2\\mathbf{v}_2 + \\dots + c_n\\mathbf{v}_n,\n",
    "$$\n",
    "se requiere que $c_1 \\neq 0$.\n",
    "\n",
    "En esta sección revisaremos estos factores mediante experimentación numérica."
   ]
  },
  {
   "cell_type": "markdown",
   "metadata": {},
   "source": [
    "### a) Implemente una función que construya una matriz simétrica en función de sus valores propios.\n",
    "Construya un algoritmo que reciba como parámetro una lista de los valores propios y construya una matriz simétrica a partir de estos. Utilice la Descomposición de Valores Propios para esto. Su algoritmo debe retornar la matriz generada y los vectores propios utilizados."
   ]
  },
  {
   "cell_type": "code",
   "execution_count": 2,
   "metadata": {},
   "outputs": [],
   "source": [
    "from scipy import linalg as LA\n",
    "import numpy as np\n",
    "from scipy.linalg import qr\n",
    "from numpy.linalg import norm, solve\n",
    "import matplotlib.pyplot as plt\n",
    "np.random.seed(1234)"
   ]
  },
  {
   "cell_type": "markdown",
   "metadata": {},
   "source": [
    "### Respuesta\n",
    "Nuestro sistema de ecuaciones será: \n",
    "$$\n",
    " A v_1 = \\lambda_1 v_1 \\\\\n",
    " A v_2 = \\lambda_2 v_2 \\\\\n",
    " A v_3 = \\lambda_3 v_3 \\\\\n",
    "         \\cdots        \\\\\n",
    " A v_n = \\lambda_n v_n \\\\\n",
    "$$\n",
    "\n",
    "o bien: \n",
    "\n",
    "$$\n",
    "A(v_1,\\dots,v_n) = (\\lambda_1 v_1, \\dots, \\lambda_n v_n)\n",
    "$$\n",
    "\n",
    "Donde:\n",
    "$$\n",
    "V = (v_1, \\dots, v_n)\n",
    "$$\n",
    "\n",
    "Es una matriz $n \\times n$ con columnas $v_1, \\dots, v_n$. \n",
    "\n",
    "Luego podemos escribir: \n",
    "$$ \n",
    "A V = D V \n",
    "$$\n",
    "\n",
    "Donde $D$ es la matriz diagonal cuyas entradas (diagonales) son $\\lambda_1, \\dots, \\lambda_n$ los valores propios de $A$.\n",
    "\n",
    "Asumiento que $V$ es invertible (sus vectores propios son LI), entonces $$A = VDV^{-1}$$"
   ]
  },
  {
   "cell_type": "code",
   "execution_count": 3,
   "metadata": {},
   "outputs": [],
   "source": [
    "def get_matrix(l):\n",
    "    np.random.seed(1234)\n",
    "    N = len(l)\n",
    "    #Generate orthogonal matrix\n",
    "    H = np.random.randn(N, N)\n",
    "    Q, R = qr(H)\n",
    "    #Generate diagonal matrix with entries eigenvalues\n",
    "    lamb = np.diag(l)\n",
    "    A = np.dot(np.dot(Q, lamb),Q.T)\n",
    "    return A, Q"
   ]
  },
  {
   "cell_type": "markdown",
   "metadata": {},
   "source": [
    "Ya que necesitamos que los vectores propios sean ortogonales, utilizaremos la descomposición $QR$ para obtener una matriz con las características que necesitamos."
   ]
  },
  {
   "cell_type": "markdown",
   "metadata": {},
   "source": [
    "Al tratarse de una matriz simétrica $A \\in\\mathbb{R^{n\\times n}}$, se cumple que tiene $n$ valores propios reales, y más aún, los vectores propios asociados forman una base ortogonal de $\\mathbb{R^n}$"
   ]
  },
  {
   "cell_type": "markdown",
   "metadata": {},
   "source": [
    "### b) Implemente *Power Iteration*\n",
    "Almacene los valores del cuociente de Rayleigh obtenidos en cada iteración del método."
   ]
  },
  {
   "cell_type": "code",
   "execution_count": 4,
   "metadata": {},
   "outputs": [],
   "source": [
    "def power_iteration(A, x, k, verbose=False):\n",
    "    \"\"\"\n",
    "    Program 12.1 Power iteration\n",
    "    Computes dominant eigenvector of square matrix\n",
    "    Input: matrix A, initial (nonzero) vector x, number of steps k\n",
    "    Output: dominant eigenvalue lam, eigenvector u\n",
    "    \"\"\"\n",
    "    rayleight = []\n",
    "    if verbose: print(\"Power Iteration Method\\n%s\"%('='*80))\n",
    "    for j in range(k):\n",
    "        u = x/norm(x) # normalize vector\n",
    "        x = np.dot(A, u) # power step\n",
    "        lam = np.dot(u, x) #not really necessary to compute it at each iteration\n",
    "        rayleight.append(lam)\n",
    "    u = x/norm(x) #vector propio dominante\n",
    "    if verbose: print(\"k=%d, lambda=%+.3f, u=%s\\n\"%(j+1,lam,str(u.T)))\n",
    "    return (lam, u, rayleight)"
   ]
  },
  {
   "cell_type": "markdown",
   "metadata": {},
   "source": [
    "### c) Tasa de convergencia\n",
    "Genere tres listas de $N = 100$ valores propios, donde el mayor debe ser $1000$. Asegúrese de que el resto de los valores propios de las tres listas sean **suficientemente** distintos para observar su influencia en la aplicación de *Power Iteration*. Una sugerencia de listas son:\n",
    "* Un arreglo equiespaciado entre $100$ y $1000$.\n",
    "* Un arreglo de 98 elementos con valor $500$, uno con valor $100$ y uno con valor $1000$.\n",
    "* Un arreglo de 98 elementos aleatorios entre [100, 500], uno con valor $100$ y otro con valor $1000$."
   ]
  },
  {
   "cell_type": "code",
   "execution_count": 5,
   "metadata": {},
   "outputs": [],
   "source": [
    "#n1\n",
    "n1 = np.linspace(100, 1000, 100) # array N = 100, [100, 1000] equiespaciado\n",
    "#n2\n",
    "n2 = np.zeros((100))\n",
    "n2[0:99] = np.linspace(100, 500, 99)\n",
    "n2[99] = 1000\n",
    "#n3\n",
    "n3 = np.zeros((100))\n",
    "n3[1:99] = np.random.uniform(low=100, high=500, size=(98,))\n",
    "n3[0] = 100\n",
    "n3[99] = 1000"
   ]
  },
  {
   "cell_type": "code",
   "execution_count": 6,
   "metadata": {},
   "outputs": [],
   "source": [
    "A1, V1 = get_matrix(n1)"
   ]
  },
  {
   "cell_type": "code",
   "execution_count": 7,
   "metadata": {},
   "outputs": [],
   "source": [
    "A2, V2 = get_matrix(n2)"
   ]
  },
  {
   "cell_type": "code",
   "execution_count": 8,
   "metadata": {},
   "outputs": [],
   "source": [
    "A3, V3 = get_matrix(n3)"
   ]
  },
  {
   "cell_type": "markdown",
   "metadata": {},
   "source": [
    "### d) Ejecución de *Power Iteration*\n",
    "Aplique el algoritmo P.I sobre las tres matrices generadas y grafique los resultados del cuociente de Rayleigh en cada iteración."
   ]
  },
  {
   "cell_type": "code",
   "execution_count": 9,
   "metadata": {},
   "outputs": [],
   "source": [
    "x = np.random.randn((100))\n",
    "lamb1, U1, R1 = power_iteration(A1, x, 50, False)\n",
    "lamb2, U2, R2 = power_iteration(A2, x, 50, False)\n",
    "lamb3, U3, R3 = power_iteration(A3, x, 50, False)"
   ]
  },
  {
   "cell_type": "code",
   "execution_count": 10,
   "metadata": {
    "scrolled": true
   },
   "outputs": [
    {
     "data": {
      "image/png": "[encoded data removed]",
      "text/plain": [
       "<Figure size 432x288 with 1 Axes>"
      ]
     },
     "metadata": {},
     "output_type": "display_data"
    }
   ],
   "source": [
    "plt.plot(R1, 'ro', label='Rayleigh 1')\n",
    "plt.plot(R2, 'b^', label = 'Rayleigh 2')\n",
    "plt.plot(R3, 'g^', label= 'Rayleigh 3')\n",
    "plt.legend(loc='best', numpoints=1)\n",
    "plt.title(\"Convergencia Power Iteration\")\n",
    "plt.xlabel(\"N° Iteración\")\n",
    "plt.ylabel(\"Estimación Valor propio\")\n",
    "plt.show()"
   ]
  },
  {
   "cell_type": "markdown",
   "metadata": {},
   "source": [
    "### e) Concluya respecto a los resultados anteriores\n",
    "* ¿A qué se deben los resultados obtenidos?.\n",
    "* ¿Cómo influyen los valores propios en la aplicación de *Power Iteration*?. Explique."
   ]
  },
  {
   "cell_type": "markdown",
   "metadata": {},
   "source": [
    "Para esta pregunta analizaremos las convergencias para los distintos arreglos de valores propios: <br>\n",
    "Por el enunciado, sabemos que:\n",
    "$$\n",
    "S = \\frac{|\\lambda_2|}{|\\lambda_1|}\n",
    "$$\n",
    "determina la tasa de convergencia. Como sabemos, este algoritmo corresponde a un FPI, por lo tanto su convergencia es lineal con tasa $S$. "
   ]
  },
  {
   "cell_type": "code",
   "execution_count": 11,
   "metadata": {},
   "outputs": [],
   "source": [
    "def convergence(n): # input: set of eigenvalues\n",
    "    return abs(n[-2])/abs(n[-1])"
   ]
  },
  {
   "cell_type": "code",
   "execution_count": 12,
   "metadata": {},
   "outputs": [],
   "source": [
    "s1 = convergence(n1) #Convergencia para n1\n",
    "s2 = convergence(n2) #convergencia para n2\n",
    "s3 = convergence(n3) #convergencia para n3"
   ]
  },
  {
   "cell_type": "code",
   "execution_count": 13,
   "metadata": {},
   "outputs": [
    {
     "name": "stdout",
     "output_type": "stream",
     "text": [
      "Convergencia para arreglo n1: 0.990909090909091\n",
      "Convergencia para arreglo n2: 0.5\n",
      "Convergencia para arreglo n3: 0.42768082682566333\n"
     ]
    }
   ],
   "source": [
    "print('Convergencia para arreglo n1:', s1)\n",
    "print('Convergencia para arreglo n2:', s2)\n",
    "print('Convergencia para arreglo n3:', s3)"
   ]
  },
  {
   "cell_type": "markdown",
   "metadata": {},
   "source": [
    "Como podemos ver en el gráfico de la pregunta (d), <i>power iteration</i> aplicado a las matrices 2 y 3 converge en pocas iteraciones al valor propio dominante, y esto se debe a la tasa de convergencia. \n",
    "\n",
    "Como se comprueba anteriormente, las tasas de convergencia $S$ son $S1>S2>S3$ lo que significa que el error va disminuyendo linealmente por el factor $S < 1$. Es decir, mientras menor sea el factor $S$ ($0<S<1$) más rápido se logra la convergencia, lo cual se comprueba con nuestros resultados."
   ]
  },
  {
   "cell_type": "markdown",
   "metadata": {},
   "source": [
    "### f) Componentes del *initial guess*\n",
    "Construya una matriz simétrica con valores propios equiespaciados. Dado que usted tiene los vectores propios, construya un *initial guess* cuyo coeficiente asociado al vector propio dominante sea cero, es decir, es una combinación lineal de los otros vectores propios. Lo anterior se expresa como:\n",
    "$$\n",
    "    \\mathbf{x}_0 = \\sum_{i = 2}^n c_i\\mathbf{v}_i.\n",
    "$$\n",
    "\n",
    "* Aplique *Power Iteration* sobre la matriz construída con el *initial guess* indicado anteriormente. Realice unas 50 iteraciones.\n",
    "* ¿Converge?, ¿a qué valor propio converge?.\n",
    "* Explique lo ocurrido anteriormente.\n",
    "* Ahora realice el mismo experimento, pero con un número considerablemente mayor de iteraciones (unas $10^5$ iteraciones). ¿Qué ocurre?, ¿sucedió lo mismo que en el experimento anterior?. Entrege alguna razón de lo ocurrido."
   ]
  },
  {
   "cell_type": "code",
   "execution_count": 14,
   "metadata": {},
   "outputs": [
    {
     "data": {
      "text/plain": [
       "999.9999999999999"
      ]
     },
     "execution_count": 14,
     "metadata": {},
     "output_type": "execute_result"
    }
   ],
   "source": [
    "A4, Q4 = get_matrix(n1) #Q4 contain eigenvectors\n",
    "L4, V4 = LA.eigh(A4) # V4 = eigenvectors\n",
    "np.dot(Q4[-1].T,np.dot(L4[-1], Q4[-1]))"
   ]
  },
  {
   "cell_type": "code",
   "execution_count": 15,
   "metadata": {},
   "outputs": [],
   "source": [
    "np.random.seed(0)\n",
    "x_g = np.random.rand((100)) #array with 100 random numbers\n",
    "x_g[-1,] = 0 #set the component of dominant eigenvector 0\n",
    "i_g = np.dot(Q4, x_g) # set initial guess as linear combination of V and x_g "
   ]
  },
  {
   "cell_type": "markdown",
   "metadata": {},
   "source": [
    "Los valores propios están ordenados de menor a mayor en el arreglo por lo que bastaría con hacer 0 la última columna de la matriz de vectores propios, es decir, el último vector propio, ya que es el que está asociado al valor propio dominante. Luego tenemos el <i>initial_guess</i> como combinación lineal de los restantes vectores propios como se solicita."
   ]
  },
  {
   "cell_type": "code",
   "execution_count": 16,
   "metadata": {},
   "outputs": [],
   "source": [
    "#another way\n",
    "#init_guess = np.dot(Q4[:,:-1], np.random.rand(99)) # initial guess as a linear combination of eigenvectors except v1"
   ]
  },
  {
   "cell_type": "code",
   "execution_count": 17,
   "metadata": {},
   "outputs": [
    {
     "name": "stdout",
     "output_type": "stream",
     "text": [
      "Power Iteration Method\n",
      "================================================================================\n",
      "k=70, lambda=+990.122, u=[-0.07788385 -0.20218659 -0.00448005 -0.13271531  0.01740063 -0.06536317\n",
      "  0.13922835 -0.09904436  0.10347535 -0.03777679 -0.04883504  0.05022531\n",
      "  0.10467246 -0.07724679 -0.19559393  0.06939658 -0.04514585 -0.11040913\n",
      "  0.25120418 -0.04802599 -0.03299286 -0.0634537  -0.05570222 -0.08283808\n",
      "  0.14469655  0.01019673  0.11984472 -0.11488619 -0.12617257  0.10978741\n",
      " -0.02705594  0.10384543  0.12325434 -0.0595478  -0.0326705   0.14444772\n",
      " -0.03751892  0.04088702 -0.0601594  -0.0697914  -0.17852019  0.06621384\n",
      "  0.04562534  0.07882676  0.20078814  0.12936814 -0.01856863  0.08046944\n",
      " -0.05617817  0.14254815  0.07309562 -0.07146367  0.00407033  0.17579146\n",
      " -0.13462919 -0.09808457  0.00438771  0.00319516  0.08048898  0.02479235\n",
      "  0.09281481 -0.10493915  0.05981108  0.00863032  0.07364571 -0.01531085\n",
      " -0.10631565  0.0973986  -0.15905506 -0.09359366  0.0626172  -0.04221509\n",
      " -0.20477278 -0.07597454  0.12989585  0.02705826 -0.09526157 -0.02637669\n",
      "  0.04723616 -0.03641054 -0.13338573  0.08479819 -0.03971489  0.04674325\n",
      " -0.16125194 -0.00265218 -0.06781755 -0.20175446  0.10944763 -0.03120765\n",
      " -0.15527718 -0.18006689 -0.07329613 -0.06064298 -0.1015745   0.06896519\n",
      " -0.07699938  0.08440729  0.07404264 -0.03318271]\n",
      "\n"
     ]
    }
   ],
   "source": [
    "lamb4, U4, R4 = power_iteration(A4, i_g, 70, True)"
   ]
  },
  {
   "cell_type": "markdown",
   "metadata": {},
   "source": [
    "Nos percatamos que luego de 70 iteraciones (luego de 50 aún no \"convergía\"), el algoritmo \"converge\" al valor propio $\\lambda_2$, osea, el segundo valor propio mayor en magnitud. Esto ocurre ya que al quitar la componente asociada al valor propio dominante (i.e el vector propio dominante de nuestra matriz de vectores propios), se tiende a perder esa dirección provocando que el algoritmo converga en la dirección de la segunda componente mayor, es decir: "
   ]
  },
  {
   "cell_type": "markdown",
   "metadata": {},
   "source": [
    "Podemos escribir nuestro vector <i>initial guess</i> de la siguiente forma: \n",
    "$$ \\vec{x_0} = c_1 \\vec{v_1} + c_2 \\vec{v_2} + \\cdots + c_n \\vec{v_n} $$\n",
    "\n",
    "Por lo que, removemos la parte asociada al valor propio dominante, según lo requerido en este ejercicio: \n",
    "$$ \\vec{x_0} = c_2 \\vec{v_2} + c_3 \\vec{v_3} + \\cdots + c_n \\vec{v_n} $$\n",
    "\n",
    "Lo anterior, teóricamente nos daría como resultado al iterar <i>k - veces</i>:\n",
    "$$A^k \\vec{x_0} = c_2 \\lambda_2^{k} \\vec{v_2} + \\cdots c_n \\lambda_n^k \\vec{v_n} $$ \n",
    "\n",
    "Y por lo tanto, nuestro algoritmo teóricamente debiera converger al valor propio $\\lambda_2$ al normalizar todo por $\\lambda_2^k$.\n",
    "\n",
    "Para comprobar lo propuesto, haremos iterar 10000 veces y observaremos:"
   ]
  },
  {
   "cell_type": "code",
   "execution_count": 18,
   "metadata": {},
   "outputs": [],
   "source": [
    "lamb4, U4, R4 = power_iteration(A4, i_g, 10000, False)"
   ]
  },
  {
   "cell_type": "code",
   "execution_count": 19,
   "metadata": {},
   "outputs": [
    {
     "data": {
      "text/plain": [
       "999.9999999999995"
      ]
     },
     "execution_count": 19,
     "metadata": {},
     "output_type": "execute_result"
    }
   ],
   "source": [
    "lamb4"
   ]
  },
  {
   "cell_type": "markdown",
   "metadata": {},
   "source": [
    "¡Convergemos al valor propio dominante! ¿Por qué? <br>\n",
    "Resulta que hemos removido $\\vec{v_1}$ del <i>initial guess</i>, pero no lo hemos hecho durante las siguientes iteraciones, por lo que **inicialmente** se converge al **segundo** valor propio dominante, pero luego, a medida que $k$ tiende a infinito, **emerge** una pequeña parte de $\\vec{v_1}$ **producto de errores de redondeo de la máquina**. Por lo cual, si no volvemos a eliminar ese pequeño componente iteración tras iteración, tal componente irá creciendo y la computación converge a $\\lambda_1, \\vec{v_1}$ nuevamente. "
   ]
  },
  {
   "cell_type": "markdown",
   "metadata": {},
   "source": [
    "### g) Caso $|\\lambda_1| = |\\lambda_2|$, con $\\lambda_1 = \\lambda_2$\n",
    "Genere una matriz simétrica con el algoritmo construído en la primera pregunta que posea dos valores propios dominantes, de igual magnitud e igual valor. Aplique *Power Iteration* y grafique el cuociente de Rayleigh obtenido en cada iteración.\n",
    "* ¿Converge al valor propio dominante?\n",
    "* ¿Qué ocurre con el vector obtenido en *Power Iteration*?, ¿converge a alguno de los vectores propios dominantes?, ¿cómo está definido el vector propio obtenido?."
   ]
  },
  {
   "cell_type": "code",
   "execution_count": 20,
   "metadata": {},
   "outputs": [],
   "source": [
    "n4 = np.linspace(100, 1000, 100) #set eigenvalues\n",
    "n4[-2]=1000"
   ]
  },
  {
   "cell_type": "code",
   "execution_count": 21,
   "metadata": {},
   "outputs": [],
   "source": [
    "A5, V5 = get_matrix(n4)\n",
    "L5, V5 = LA.eigh(A5)"
   ]
  },
  {
   "cell_type": "code",
   "execution_count": 22,
   "metadata": {},
   "outputs": [
    {
     "name": "stdout",
     "output_type": "stream",
     "text": [
      "valor propio dominante 999.9999999563298\n"
     ]
    }
   ],
   "source": [
    "init_guess_g = np.random.rand((100)) #set initial guess\n",
    "init_guess_g = np.dot(init_guess_g, V5)\n",
    "lamb5, U5, R5 = power_iteration(A5, init_guess_g, 500, False)\n",
    "print('valor propio dominante', lamb5)\n",
    "#print('vector propio dominante', U5)"
   ]
  },
  {
   "cell_type": "code",
   "execution_count": 23,
   "metadata": {},
   "outputs": [
    {
     "data": {
      "image/png": "[encoded data removed]",
      "text/plain": [
       "<Figure size 432x288 with 1 Axes>"
      ]
     },
     "metadata": {},
     "output_type": "display_data"
    }
   ],
   "source": [
    "plt.plot(R5, 'bo', label='Rayleigh 1')\n",
    "plt.legend(loc='best', numpoints=1)\n",
    "plt.title(\"Convergencia Power Iteration\")\n",
    "plt.xlabel(\"N° Iteración\")\n",
    "plt.ylabel(\"Estimación Valor propio\")\n",
    "plt.show()"
   ]
  },
  {
   "cell_type": "markdown",
   "metadata": {},
   "source": [
    "El problema sí converge al valor propio dominante, y esto es porque ocurre lo siguiente:\n",
    "$$x_0 = \\sum_{i=1}^{n} c_i \\vec{v_i}$$ \n",
    "\\begin{equation}\n",
    "|\\lambda_1| = |\\lambda_2| \\\\\n",
    "\\end{equation}\n",
    "\n",
    "Por lo que aplicando el método de power iteration: \n",
    "\\begin{align}\n",
    "A x_0 &= A \\sum_{i=1}^{n} c_i A \\vec{v_i} = \\sum_{i=1}^{n} c_i \\lambda_i \\vec{v_i} \\\\\n",
    " A^2 x_0 &= \\sum_{i=1}^{n} c_i \\lambda_i^2 \\vec{v_i} \\\\\n",
    " \\vdots &= \\vdots \\\\\n",
    " A^k x_0 &= \\sum_{i=1}^n c_i \\lambda_i^k \\vec{v_i} \\\\ \n",
    " &= \\lambda_1^k c_1 \\vec{v_i} + \\lambda_1^k c_2 \\vec{v_i}+ \\cdots + \\lambda_n^k c_n \\vec{v_i}\\\\\n",
    " &= \\lambda_1^k (c_1 + c_2)\\vec{v_i} + \\cdots + \\lambda_n^k c_n \\vec{v_i} \\\\\n",
    " \\vdots &= \\vdots \\\\\n",
    " \\text{           dividiendo por $\\lambda_1^k$ }\\\\\n",
    " \\frac{A^k x_0}{\\lambda_1^k} &= c_1 \\vec{v_1} + c_2 \\vec{v_2}\n",
    "\\end{align}\n",
    "\n",
    "Lo cual tiene componentes asociados al vector propio dominante y al segundo vector dominante que es igual al primero, por lo tanto el algoritmo converge con tasa 1.\n",
    "\n",
    "El vector propio resultante está definido como la **combinación lineal** de los primeros dos vectores propios dominantes, el cual es un vector propio dominante también. \n",
    "\n",
    "Resulta que la tasa de convergencia para este experimento es $S = \\frac{|\\lambda_2|}{|{\\lambda_1}|} = 1$, y en base a las condiciones de nuestra matriz, power iteration no garantiza convergencia ya que no cumple con los requisitos. "
   ]
  },
  {
   "cell_type": "code",
   "execution_count": 24,
   "metadata": {},
   "outputs": [
    {
     "data": {
      "image/png": "[encoded data removed]",
      "text/plain": [
       "<Figure size 432x288 with 1 Axes>"
      ]
     },
     "metadata": {},
     "output_type": "display_data"
    }
   ],
   "source": [
    "p_c = np.dot(init_guess_g[-1], U5) + np.dot(init_guess_g[-2], U5)\n",
    "error = []\n",
    "for i in range(len(R5)-1):\n",
    "    error.append(R5[i+1]/R5[i]) #Acá se comprueba la tasa de error s = 1\n",
    "plt.plot(error, 'ro', label='Error')\n",
    "plt.legend(loc='best', numpoints=1)\n",
    "plt.title(\"Error Power Iteration\")\n",
    "plt.xlabel(\"N° Iteración\")\n",
    "plt.ylabel(\"Error\")\n",
    "plt.show()"
   ]
  },
  {
   "cell_type": "markdown",
   "metadata": {},
   "source": [
    "* Si se define la matriz $B$ como:\n",
    "$$\n",
    "    B = A - \\lambda_1\\mathbf{v}_1\\mathbf{v}_1^T,\n",
    "$$\n",
    "donde $\\lambda_1$ y $\\mathbf{v}_1$ son los valores y vectores propios encontrados con P.I anteriormente. ¿Cuales son los valores y vectores propios de la matriz $B$?.\n",
    "* ¿Cómo puede utilizar lo anterior para encontrar el vector propio asociado al otro valor propio dominante de $A$?. Explíquelo y muéstrelo numéricamente."
   ]
  },
  {
   "cell_type": "code",
   "execution_count": 25,
   "metadata": {},
   "outputs": [
    {
     "data": {
      "text/plain": [
       "1.0"
      ]
     },
     "execution_count": 25,
     "metadata": {},
     "output_type": "execute_result"
    }
   ],
   "source": [
    "np.dot(U5, U5.T)"
   ]
  },
  {
   "cell_type": "code",
   "execution_count": 26,
   "metadata": {},
   "outputs": [
    {
     "data": {
      "text/plain": [
       "-99464.41865018221"
      ]
     },
     "execution_count": 26,
     "metadata": {},
     "output_type": "execute_result"
    }
   ],
   "source": [
    "B = A5 - np.dot(lamb5, np.dot(U5,U5.T))\n",
    "LB, VB = LA.eigh(B) #eigenvals of B\n",
    "\n",
    "np.random.seed(1234)\n",
    "x_5 = np.random.rand((100))\n",
    "x_5 = x_5 / norm(x_5)\n",
    "\n",
    "LambB, UB, RB  = power_iteration(B, x_5, 50, False)\n",
    "LambB"
   ]
  },
  {
   "cell_type": "markdown",
   "metadata": {},
   "source": [
    "El valor propio dominante encontrado corresponde a un valor que no es y que fue generado producto del error. Para hallar el valor propio dominante real entonces deberíamos usar deflation sobre este valor encontrado, y luego encontrar el siguiente "
   ]
  },
  {
   "cell_type": "code",
   "execution_count": 27,
   "metadata": {},
   "outputs": [],
   "source": [
    "def deflation(B, lamb, U, x):\n",
    "    B1 = B-lamb*np.dot(U, x.T)\n",
    "    return B1"
   ]
  },
  {
   "cell_type": "code",
   "execution_count": 28,
   "metadata": {},
   "outputs": [],
   "source": [
    "LB = np.sort(abs(LB))\n",
    "#LB"
   ]
  },
  {
   "cell_type": "code",
   "execution_count": 30,
   "metadata": {},
   "outputs": [],
   "source": [
    "C, V_c = get_matrix(LB)\n",
    "\n",
    "eigval_c, eigvec_c = LA.eigh(C)\n",
    "np.random.seed(1234)\n",
    "x_6 = np.random.rand((100))\n",
    "x_6[-1,] = 0\n",
    "x_6 = x_6/norm(x_6)\n",
    "x_6 = np.dot(x_6, V_c) \n",
    "lambda_c, U_c, R_c = power_iteration(C, x_6, 10)"
   ]
  },
  {
   "cell_type": "markdown",
   "metadata": {},
   "source": [
    "Un camino sencillo es que como sabemos a priori que el valor propio dominante está en cierto rango (o bien el valor exacto), un algoritmo sería usar inverse_power_iteration aplicando un shift acorde al valor propio que se quiere encontrar. "
   ]
  },
  {
   "cell_type": "code",
   "execution_count": 31,
   "metadata": {},
   "outputs": [],
   "source": [
    "def inverse_power_iteration(A, x, s, k, verbose=False):\n",
    "    \"\"\"\n",
    "    Program 12.2 Inverse Power iteration\n",
    "    Computes eigenvector of square matrix nearest to input s\n",
    "    Input: matrix A, initial (nonzero) vector x, shift s, number of steps k\n",
    "    Output: dominant eigenvalue lam, eigenvector of inv(A-sI)\n",
    "    \"\"\"\n",
    "    if verbose: print(\"Inverse Power Iteration Method\\n%s\"%('='*80))\n",
    "    As = A - s*np.eye(*A.shape)\n",
    "    for j in range(k):\n",
    "        u = x/norm(x)\n",
    "        x = solve(As, u)\n",
    "        lam = np.dot(u.T, x)\n",
    "        if verbose: print(\"k=%d, lambda=%+.3f, u=%s\"%(j,1./lam+s,str(u.T)))\n",
    "    u = x/norm(x)\n",
    "    if verbose: print(\"k=%d, lambda=%+.3f, u=%s\\n\"%(j+1,1./lam+s,str(u.T)))\n",
    "    return (1./lam+s, u)"
   ]
  },
  {
   "cell_type": "code",
   "execution_count": 32,
   "metadata": {},
   "outputs": [
    {
     "data": {
      "text/plain": [
       "999.9999999999989"
      ]
     },
     "execution_count": 32,
     "metadata": {},
     "output_type": "execute_result"
    }
   ],
   "source": [
    "lambda_c_inv, U_c_inv = inverse_power_iteration(C, x_6, 1000, 10)\n",
    "lambda_c_inv"
   ]
  },
  {
   "cell_type": "markdown",
   "metadata": {},
   "source": [
    "El método formal que se debiese usar para hallar el segundo valor propio 1000, será implementar deflation.\n",
    "\n",
    "Elegiremos un vector tal que $\\vec{u_1}^T \\vec{x_1} = \\lambda_1 $\n",
    "\n",
    "Los valores propios de $C - \\vec{x_1}\\vec{u_1}^T$ serán $0, \\lambda_2, \\cdots, \\lambda_n$\n",
    "\n",
    "Escogemos $\\vec{u_1} = \\lambda_1 \\vec{x_1} $ ya que C es simétrica y normalizada tal que $||{x_1}||_2=1$\n",
    "\n",
    "Luego se realiza power iteration sobre esa matriz y se converge a $\\lambda_2$.\n",
    "\n",
    "La implementación de deflation en la teoría sirve para encontrar todos los valores propios de una matriz, \"quitándole\" las componentes asociadas al valor propio dominante a medida que se van encontrando dichos valores, para luego encontrar los siguientes mayores y así sucesivamente, en la práctica esto va arrastrando un round-off error que trae consecuencias muy negativas en algunos casos, por lo que hay que buscar formas de disminuir dicho error como escoger el initial guess a conveniencia, entre otras cosas que se comprueban en esta tarea."
   ]
  }
 ],
 "metadata": {
  "kernelspec": {
   "display_name": "Python 3",
   "language": "python",
   "name": "python3"
  },
  "language_info": {
   "codemirror_mode": {
    "name": "ipython",
    "version": 3
   },
   "file_extension": ".py",
   "mimetype": "text/x-python",
   "name": "python",
   "nbconvert_exporter": "python",
   "pygments_lexer": "ipython3",
   "version": "3.6.4"
  }
 },
 "nbformat": 4,
 "nbformat_minor": 2
}
