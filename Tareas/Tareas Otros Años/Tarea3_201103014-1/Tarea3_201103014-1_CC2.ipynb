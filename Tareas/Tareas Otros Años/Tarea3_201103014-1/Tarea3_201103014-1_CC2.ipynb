{
 "cells": [
  {
   "cell_type": "markdown",
   "metadata": {},
   "source": [
    "<img src=\"escudo_utfsm.gif\" style=\"float:right;height:100px\">\n",
    "<img src=\"IsotipoDIisocolor.png\" style=\"float:left;height:100px\">\n",
    "<center>\n",
    "    <h1> ILI286 Computación Científica II</h1>\n",
    "    <h1> Tarea N°3: Problema de valor inicial</h1>\n",
    "    <h3> [S]cientific [C]omputing [T]eam 2018</h3>\n",
    "</center>\n",
    "\n",
    "<p>\n",
    "<center>_Abril 2018_ </center>\n",
    "</p>"
   ]
  },
  {
   "cell_type": "code",
   "execution_count": 1,
   "metadata": {
    "collapsed": true
   },
   "outputs": [],
   "source": [
    "import numpy as np\n",
    "import matplotlib.pyplot as plt\n",
    "import time\n",
    "import scipy.optimize as opt\n",
    "\n",
    "import matplotlib.pyplot as plt\n",
    "from ipywidgets import widgets\n",
    "from matplotlib import gridspec\n",
    "import matplotlib.image as image\n",
    "import matplotlib.patches as patches"
   ]
  },
  {
   "cell_type": "markdown",
   "metadata": {},
   "source": [
    "El objetivo de este laboratorio es poder resolver una Ecuación Diferencial Ordinaria (EDO) usando los métodos numéricos vistos en el curso. Una Ecuación Diferencial Ordinaria (_Ordinary Differential Equation_, ODE) es una ecuación en donde la incógnita es una función de una variable, generalmente $\\mathbf{y}(t)$ o $\\mathbf{y}(x)$. Los tipos de ODE's que veremos en esta tarea son los **problemas de valor inicial** (_Initial Value Problem_, IVP), los cuales tienen la forma:\n",
    "$$\n",
    "\\begin{align}\n",
    "\\\\\n",
    "\\dot{\\mathbf{y}}(t) & = \\mathbf{F}( t,\\mathbf{y}(t) ),\\quad t\\in [0,T] \\\\ \n",
    " \\mathbf{y}(0) & = \\mathbf{y}_0\n",
    "\\end{align}\n",
    "$$"
   ]
  },
  {
   "cell_type": "markdown",
   "metadata": {},
   "source": [
    "# Fast Extreme Delivery"
   ]
  },
  {
   "cell_type": "markdown",
   "metadata": {},
   "source": [
    "La importante empresa de entregas *Fast Extreme Delivery* (F.E.D) está incorporando a su gama de métodos de envío la entrega \"aérea mediante paracaídas\", el cual consta de la entrega del pedido mediante una avioneta que suelta el paquete, el cual incorpora un paracaídas, lo cual permite dejar la encomienda en la puerta o azotea de la casa o edificio destino. \n",
    "Desafortunadamente, el equipo de desarrollo de la empresa terminó en el hospital debido a razones que la empresa no ha especificado por lo que se le ha solicitado a los estudiantes de Computación Científica II que resuelvan este problema, con los antecedentes que se les entregarán a continuación. \n",
    "    \n",
    "El lanzamiento con paracaídas consta de dos partes: la primera que corresponde al objeto cayendo con el paracaídas cerrado y luego el descenso con el paracaídas abierto. Ambas stiuaciones pueden modelarse utilizando la Segunda Ley de Newton:\n",
    "\n",
    "\\begin{equation}\n",
    "\\displaystyle \\sum_{i=1}^N \\mathbf{F}_i = m\\cdot \\mathbf{a},\n",
    "\\end{equation}\n",
    "\n",
    "donde $\\mathbf{F}_i$ es la $i$-ésima fuerza que se ejerce sobre el cuerpo de masa $m$ y $\\mathbf{a}$ corresponde al vector aceleración.\n",
    "Para aplicar la Ley de Newton para modelar el problema, es necesario estudiar y comprender cada fuerza que estará actuando sobre la encomienda al momento de ser lanzado por el avión, tanto cuando se tiene el paracaídas cerrado como cuando está abierto.\n",
    "Para simplificar el problema trabajaremos en dos dimensiones, utilizando las coordenadas $(x,y)$, donde la coordenada $x$ representará el ancho o largo del espacio y la coordenada $y$ la altura.\n",
    "\n",
    "Consideremos, en una primera instancia, que el objeto solo se desplaza en el eje $y$, es decir, no consideraremos la presencia de fuerzas en el eje $x$.\n",
    "En esta situación, cuando el objeto es soltado desde el avión, experimenta dos fuerzas sobre él. \n",
    "La primera corresponde a la fuerza gravitacional, definida como $\\mathbf{F}_g = -m\\, g\\,\\hat{\\mathbf{j}} $, donde $g\\,\\hat{\\mathbf{j}}$ es la aceleración de la gravedad y $m$ la masa del objeto. \n",
    "La otra fuerza es la de la resistencia del viento, definida como $\\mathbf{F}_r = k\\, \\langle\\mathbf{v},\\,\\hat{\\mathbf{j}}\\rangle^2\\,\\hat{\\mathbf{j}}$ donde $\\mathbf{v}$ es la velocidad del objeto y $k$ es la constante asociada a la resistencia del viento, cuyo valor dependerá del objeto, su forma y el fluído que produce la resistencia (en este caso, el viento).\n",
    "Como estamos considerando solo fuerzas en el eje $y$, el vector unitario $\\hat{\\mathbf{j}}$ nos indica que estamos considerando la componente de la velocidad en la dirección del eje $y$.\n",
    "\n",
    "El objeto es lanzado con el paracaídas cerrado y continuará así hasta llegar a los $H_p$ metros de altura. Alcanzada esta distancia, se procederá a abrir el paracaídas. Para introducir la influencia del paracaídas, se utilizará la constante $k$.\n",
    "Esto quiere decir que tendremos dos valores de $k$: $k_1$, asociada a la resistencia del viento cuando el objeto tiene el paracaídas cerrado, y $k_2$, la constante de resistencia del viento asociada al tener el paracaídas abierto.\n",
    "Si denotamos por $H$ la altura donde el objeto es soltado desde la avioneta (altura inicial), podemos definir el valor de la constante de resistencia $k$ como:\n",
    "\n",
    "\\begin{equation*}\n",
    "    k =\n",
    "    \\begin{cases}\n",
    "        k_1&, \\, H_p < y \\leq H \\\\\n",
    "        k_2&, \\, 0 < y \\leq H_p.\n",
    "    \\end{cases}\n",
    "\\end{equation*}\n",
    "\n",
    "El tiempo total que se demora el objeto en llegar a su destino (esto es, el tiempo del objeto en caída libre más el tiempo que el objeto está con paracaídas) lo denotaremos por $T$ (este **no** es un parámetro)."
   ]
  },
  {
   "cell_type": "markdown",
   "metadata": {},
   "source": [
    "## Pregunta 1 [10 pts]"
   ]
  },
  {
   "cell_type": "markdown",
   "metadata": {},
   "source": [
    "Presente un modelo del problema descrito anteriormente mediante una ecuación diferencial ordinaria, utilizando la Segunda Ley de Newton. Considere que el objeto solo posee desplazamiento en el eje $y$ (sin influencias de fuerzas en el eje $x$).\n",
    "Luego convierta su expresión a un sistema dinámico."
   ]
  },
  {
   "cell_type": "markdown",
   "metadata": {},
   "source": [
    "Como se sabe por la Segunda ley de Newton, junto que estamos trabajando sobre el eje \"y\" por lo tanto la sumatoria de fuerzas en este sera igual a la fuerza de $F_{g}$ menos $F_{r}$"
   ]
  },
  {
   "cell_type": "markdown",
   "metadata": {},
   "source": [
    "$$\n",
    "\\begin{align}\n",
    "    ma &= \\displaystyle \\sum F_{y} \\\\\n",
    "    ma &= \\displaystyle F_{g} + F_{r}\\\\ \n",
    "    ma &= \\displaystyle -mg  + kv^{2} \\\\\n",
    "    m \\cfrac{d^{2}y}{dt^{2}} &= \\displaystyle - mg + k \\cfrac{dy}{dt}^{2}\\\\\n",
    "    my'' &= \\displaystyle -mg + ky'^{2} \\\\\n",
    "    y'' &= \\displaystyle -g + \\cfrac{ky'^{2}}{m} \\\\\n",
    "    y'' &= \\displaystyle \\cfrac{ky'^{2}}{m} -g \\\\\n",
    "    y''(t) &= \\displaystyle \\cfrac{ky'(t)^{2}}{m} -g \\\\\n",
    "\\end{align}\n",
    "$$"
   ]
  },
  {
   "cell_type": "markdown",
   "metadata": {},
   "source": [
    "Ahora realizaremos un sistema dinaminco de la edo resultante anteriormente, definimos las variables:\n",
    "$$\n",
    "\\begin{align}\n",
    "    y_{1} &=\\displaystyle y(t) \\\\\n",
    "    y_{2} &=\\displaystyle y'(t) \\\\\n",
    "\\end{align}\n",
    "$$\n",
    "\n",
    "Quedandonos un sistema dinamico\n",
    "$$\n",
    "\\begin{align}\n",
    "    y_{1}' &= \\displaystyle y_{2} \\\\\n",
    "    y_{2}' &=\\displaystyle \\cfrac{ky_{2}^{2}}{m} -g \\\\\n",
    "\\end{align}\n",
    "$$"
   ]
  },
  {
   "cell_type": "markdown",
   "metadata": {},
   "source": [
    "## Pregunta 2 [20 pts]"
   ]
  },
  {
   "cell_type": "markdown",
   "metadata": {},
   "source": [
    "Implemente un algoritmo que simule el problema presentado, utilizando el modelo planteado en la pregunta anterior.\n",
    "Considere como parámetros de su algoritmo los valores de $H$ (altura de lanzamiento), $H_p$ (altura de apertura del paracaídas), $k_1$ (constante de resistencia en caída libre), $k_2$ (constante de resistencia con el paracaídas abierto) y $m$ (masa del objeto). Considere que el objeto es soltado con velocidad inicial cero, es decir, desde el reposo.\n",
    "Muestre los siguientes gráficos y concluya:\n",
    "\n",
    "* Altura del objeto vs el tiempo. \n",
    "* Caida del objeto ($y$ vs $x$).\n",
    "* Velocidad del objeto vs el tiempo\n",
    "* Velocidad del objeto vs altura del objeto.\n",
    "\n",
    "Utilize colores distintos para diferenciar en los gráficos cuando el objeto está sin paracaídas y cuando está decendiendo con él."
   ]
  },
  {
   "cell_type": "markdown",
   "metadata": {},
   "source": [
    "Con los datos entregados obtenermos que:\n",
    "$$\n",
    "\\begin{align}\n",
    "    y(0) = H &\\rightarrow \\displaystyle y_{1}(0) = H \\\\\n",
    "    y'(0) = 0 &\\rightarrow \\displaystyle y_{2}(0) = 0\n",
    "\\end{align}\n",
    "$$"
   ]
  },
  {
   "cell_type": "code",
   "execution_count": 2,
   "metadata": {
    "collapsed": true
   },
   "outputs": [],
   "source": [
    "# Forward Euler Method\n",
    "def euler_ode(y,t,f,h):\n",
    "    return y+h*f(t,y)\n",
    "\n",
    "def myfun(t, y):\n",
    "    y1 = y[0] #Altura del objeto\n",
    "    y2 = y[1] #Velocidad del objeto\n",
    "    Hp = 600 #altura donde abre el paracaida\n",
    "    m = 73 #masa de la caja\n",
    "    if(y1>=Hp):\n",
    "        k = 0.0000001\n",
    "    else:\n",
    "        k = 0.99999999999999999999\n",
    "    return np.array([y2 , ((k*y2**2)/m)-9.8])"
   ]
  },
  {
   "cell_type": "code",
   "execution_count": 3,
   "metadata": {},
   "outputs": [],
   "source": [
    "def plot_y_t_2D(time, y_output, i=1):\n",
    "    arreglo = np.zeros(len(time[:i]))\n",
    "    fig = plt.figure(figsize = (10,8))\n",
    "    \n",
    "    \n",
    "    gs = gridspec.GridSpec( ncols = 2 , nrows = 2 )\n",
    "    ax0 = plt.subplot(gs[0, 0])\n",
    "    plt.xlabel(r\"$t$\",fontsize = 20) \n",
    "    plt.ylabel(r\"$Altura$\", fontsize = 20)\n",
    "    plt.plot(time[:i],y_output[0,:i],'r-',label=r\"$y_1(t)$\")\n",
    "    #plt.plot(time[:i],y_output[0,:i],'b-',label=r\"$y_1(t)$\")\n",
    "    plt.legend(loc='best', borderaxespad=0., fontsize = 10)\n",
    "    plt.grid(True)\n",
    "    \n",
    "    ax1 = plt.subplot(gs[0, 1])\n",
    "    plt.xlabel(r\"$X$\",fontsize = 20) \n",
    "    plt.ylabel(r\"$Y$\", fontsize = 20)\n",
    "    plt.plot(arreglo,y_output[0,:i],'g-',label=r\"$y_1(t)$\")\n",
    "    plt.legend(loc='best', borderaxespad=0., fontsize = 10)\n",
    "    plt.grid(True)\n",
    "    \n",
    "    ax2 = plt.subplot(gs[1, 0])\n",
    "    plt.xlabel(r\"$t$\",fontsize = 20) \n",
    "    plt.ylabel(r\"$Velocidad$\", fontsize = 20)\n",
    "    plt.plot(time[:i],y_output[1,:i],'g-',label=r\"$y_2(t)$\")\n",
    "    plt.legend(loc='best', borderaxespad=0., fontsize = 10)\n",
    "    plt.grid(True)\n",
    "    \n",
    "    ax3 = plt.subplot(gs[1, 1])\n",
    "    plt.xlabel(r\"$Altura$\",fontsize = 20) \n",
    "    plt.ylabel(r\"$Velocidad$\", fontsize = 20)\n",
    "    plt.plot(time[:i],y_output[0,:i],'r-',label=r\"$y_1(t)$\")\n",
    "    plt.plot(time[:i],y_output[1,:i],'g-',label=r\"$y_2(t)$\")\n",
    "    plt.legend(loc='best', borderaxespad=0., fontsize = 10)\n",
    "    plt.grid(True)\n",
    "    \n",
    "    plt.tight_layout()\n",
    "    plt.show()"
   ]
  },
  {
   "cell_type": "code",
   "execution_count": 4,
   "metadata": {},
   "outputs": [],
   "source": [
    "def IVP_Method( F, x0, time_grid, espaciado):\n",
    "    # Number of discretization points\n",
    "    N=espaciado\n",
    "    # Maximun time used\n",
    "    T=60\n",
    "    #Initial Solution\n",
    "    y0 = x0\n",
    "    h=T/N\n",
    "\n",
    "    t_times = np.arange(0, T+h, h)\n",
    "    y_output = np.zeros([2,t_times.size])\n",
    "    y_output[:,0] = y0\n",
    "    \n",
    "    Hp = 600 #altura donde abre el paracaida\n",
    "    m = 73 #masa de la caja\n",
    "    \n",
    "    for i in range(1,t_times.size):\n",
    "        y_output[:,i]=euler_ode(y_output[:,i-1],t_times[i-1],myfun,h)\n",
    "        if(y_output[0,i]<0):\n",
    "            y_output[0,i] = 0\n",
    "            y_output[1,i] = 0\n",
    "    plot_y_t_2D(t_times, y_output, i=time_grid)\n",
    "    return y_output"
   ]
  },
  {
   "cell_type": "code",
   "execution_count": 5,
   "metadata": {},
   "outputs": [
    {
     "data": {
      "application/vnd.jupyter.widget-view+json": {
       "model_id": "8398925ef46140aebd13900d4aaa1d33",
       "version_major": 2,
       "version_minor": 0
      },
      "text/plain": [
       "A Jupyter Widget"
      ]
     },
     "metadata": {},
     "output_type": "display_data"
    },
    {
     "data": {
      "text/plain": [
       "<function __main__.IVP_Method>"
      ]
     },
     "execution_count": 5,
     "metadata": {},
     "output_type": "execute_result"
    }
   ],
   "source": [
    "widgets.interact(IVP_Method,time_grid=(1,601), espaciado=(1,600,1), x0=widgets.fixed([1500,0]),F=widgets.fixed(myfun))"
   ]
  },
  {
   "cell_type": "code",
   "execution_count": null,
   "metadata": {
    "collapsed": true
   },
   "outputs": [],
   "source": []
  },
  {
   "cell_type": "markdown",
   "metadata": {},
   "source": [
    "## Pregunta 3 [60 pts]"
   ]
  },
  {
   "cell_type": "markdown",
   "metadata": {},
   "source": [
    "La empresa desea entregar varios paquetes en un solo recorrido. Dado que la avioneta no puede detenerse, el objeto será soltado  en movimiento.\n",
    "Para esto, la avioneta dejará caer la encomienda con una velocidad inicial de la forma $\\mathbf{v}(0) = (v_0, 0)$, es decir, la velocidad en dirección del eje $y$ será cero (se dejará caer desde el reposo) pero tendrá una componente de velocidad en dirección del eje $x$.\n",
    "\n",
    "F.E.D también quiere evaluar si la trayectoria de la caja se verá afectada por la fuerza externa producto de las corrientes de vientos.\n",
    "Para esto, consideraremos un campo vectorial:\n",
    "    <p>\n",
    "    \\begin{equation*}\n",
    "    \\mathbf{F}_w(x,y,t) = ( F_{1}(x,y,t), F_{2}(x,y,t) )\\\\\n",
    "    \\end{equation*}\n",
    "    </p>\n",
    "que representará a la fuerza del viento.\n",
    "\n",
    "Así, las fuerzas presentes en el eje $x$ corresponderán a:\n",
    "* La fuerza de resistencia o roce del viento, con constante $k_1$.\n",
    "* La fuerza del viento $F_1(x, y, t)$ (componente de la fuerza $\\mathbf{F}_w$ en dirección del eje $x$).\n",
    "\n",
    "y las fuerzas para el eje $y$ serán:\n",
    "* La fuerza gravitacional.\n",
    "* La fuerza de roce del viento, con valores de $k_1$ (paracaídas cerrado) y $k_2$ (paracaídas abierto).\n",
    "* La fuerza del viento $F_2(x, y, t)$ (componente de la fuerza $\\mathbf{F}_w$ en dirección del eje $y$).\n",
    "\n",
    "<ul style=\"list-style-type: none;\">\n",
    "    \n",
    "<li>\n",
    "<p><b>a) [10 pts]</b> Modele las dos ecuaciones diferenciales que representan la posición de la caja $(x,y)$, y transforme sus ecuaciones en un sistema dinámico.  </p>\n",
    "</li>    \n",
    "</ul>"
   ]
  },
  {
   "cell_type": "markdown",
   "metadata": {},
   "source": [
    "$$\n",
    "\\begin{align}\n",
    "    ma &= \\displaystyle \\sum F_{y} \\\\\n",
    "    ma &= \\displaystyle F_{g} + F_{r} + F_{1}\\\\ \n",
    "    ma &= \\displaystyle -mg  + kv^{2} + \\alpha y \\\\\n",
    "    m \\cfrac{d^{2}y}{dt^{2}} &= \\displaystyle - mg + k \\cfrac{dy}{dt}^{2} + \\alpha y\\\\\n",
    "    my'' &= \\displaystyle -mg + ky'^{2} + \\alpha y \\\\\n",
    "    y'' &= \\displaystyle -g + \\cfrac{ky'^{2}}{m} + \\cfrac{\\alpha y}{m} \\\\\n",
    "    y'' &= \\displaystyle \\cfrac{ky'^{2}}{m} -g + \\cfrac{\\alpha y}{m}\\\\\n",
    "    y''(t) &= \\displaystyle \\cfrac{ky'(t)^{2}}{m} -g + \\cfrac{\\alpha y(t)}{m} \\\\\n",
    "\\end{align}\n",
    "$$"
   ]
  },
  {
   "cell_type": "markdown",
   "metadata": {},
   "source": [
    "$$\n",
    "\\begin{align}\n",
    "    ma &= \\displaystyle \\sum F_{x} \\\\\n",
    "    ma &= \\displaystyle F_{r} + F_{2}\\\\ \n",
    "    ma &= \\displaystyle kv^{2} + \\beta x \\\\\n",
    "    m \\cfrac{d^{2}x}{dt^{2}} &= \\displaystyle k \\cfrac{dx}{dt}^{2} + \\beta x\\\\\n",
    "    mx'' &= \\displaystyle kx'^{2} + \\beta x \\\\\n",
    "    x'' &= \\displaystyle \\cfrac{kx'^{2}}{m} + \\cfrac{\\beta x}{m} \\\\\n",
    "    x'' &= \\displaystyle \\cfrac{kx'^{2}}{m} + \\cfrac{\\beta x}{m} \\\\\n",
    "    x''(t) &= \\displaystyle \\cfrac{kx'(t)^{2}}{m} + \\cfrac{\\beta x(t)}{m} \\\\\n",
    "\\end{align}\n",
    "$$"
   ]
  },
  {
   "cell_type": "markdown",
   "metadata": {},
   "source": [
    "Ahora realizaremos un sistema dinaminco para el eje \"y\" de la edo resultante anteriormente, definimos las variables:\n",
    "$$\n",
    "\\begin{align}\n",
    "    y_{1} &=\\displaystyle y(t) \\\\\n",
    "    y_{2} &=\\displaystyle y'(t) \\\\\n",
    "\\end{align}\n",
    "$$\n",
    "\n",
    "Quedandonos un sistema dinamico\n",
    "$$\n",
    "\\begin{align}\n",
    "    y_{1}' &= \\displaystyle y_{2} \\\\\n",
    "    y_{2}' &= \\displaystyle \\cfrac{ky_{2}^{2}}{m} -g + \\cfrac{\\alpha y_{1}}{m}\\\\\n",
    "\\end{align}\n",
    "$$"
   ]
  },
  {
   "cell_type": "markdown",
   "metadata": {},
   "source": [
    "Ahora realizaremos un sistema dinaminco para el eje \"x\" de la edo resultante anteriormente, definimos las variables:\n",
    "$$\n",
    "\\begin{align}\n",
    "    x_{1} &=\\displaystyle x(t) \\\\\n",
    "    x_{2} &=\\displaystyle x'(t) \\\\\n",
    "\\end{align}\n",
    "$$\n",
    "\n",
    "Quedandonos un sistema dinamico\n",
    "$$\n",
    "\\begin{align}\n",
    "    x_{1}' &= \\displaystyle x_{2} \\\\\n",
    "    x_{2}' &= \\displaystyle \\cfrac{kx_{2}^{2}}{m} + \\cfrac{\\beta x_{1}}{m}\\\\\n",
    "\\end{align}\n",
    "$$"
   ]
  },
  {
   "cell_type": "markdown",
   "metadata": {},
   "source": [
    "<ul style=\"list-style-type: none;\">\n",
    "\n",
    "<p><b>b) [50 pts]</b> F.E.D desea probar sus cajas inteligentes (*AIBoxes*) para poder realizar las entregas con mayor facilidad. Cuando la encomienda desciende a una altura $H_r$ $(H_r < H_p < H)$, esta se puede mover ligeramente mediante el uso de \"control remoto\", pudiendo así modificar levemente la constante de resistencia $k$. Con esta situación, la constante de resistencia $k$ tiene tres posibles valores:\n",
    "<p>\n",
    "    \\begin{equation*}\n",
    "    k =\n",
    "    \\begin{cases}\n",
    "        k_1&, \\, H_p < y \\leq H, \\\\\n",
    "        k_2&, \\, H_r < y \\leq H_p \\\\\n",
    "        k_3&, \\, 0   < y \\leq H_r.\n",
    "    \\end{cases}\n",
    "\\end{equation*}\n",
    " </p>\n",
    "</p>\n",
    "</ul> "
   ]
  },
  {
   "cell_type": "markdown",
   "metadata": {},
   "source": [
    "<ul style=\"list-style-type: none;\">\n",
    "\n",
    "El sistema de control remoto permite modificar el valor de $k_3$ dentro del rango $[0.8k_2, 1.2k_2]$. Busque la velocidad inicial $v_0 \\in [V_1, V_2]$ del paquete y el valor de $k_3$ adecuado para dejar la entrega en la azotea de un edificio, cuya posición estará indicada por el punto $(x_{o}, y_{o})$. Para esto, implemente la siguiente función:\n",
    "</ul> \n",
    "\n",
    "```python\n",
    "'''\n",
    "Input: \n",
    "H - (float) Initial height of the box.\n",
    "Fy - (2D-array) List of functions that model the y position of the object for each k.  \n",
    "Fx - (2D-array) List of functions that model the x position.  \n",
    "H_p - (int) Distance when the parachute opens.\n",
    "H_r - (int) Distance at which the box will begin to move.\n",
    "m - (float) Mass of the box.\n",
    "V_1 - (float) Lower bound of the velocity range.\n",
    "V_2 - (float) Upper bound of the velocity range.\n",
    "k_1 - (float) Air resistance constant.\n",
    "k_2 - (float) Air resistance constant when the parachute is open.\n",
    "objetive - (1D-array) Coordinates for the roof of the building, denoted by [xo,yo].\n",
    "h - (double) The h parameter for your algoritm to solve the ODE.\n",
    "\n",
    "\n",
    "Output:\n",
    "y - (2D-array) The position y of the parachute in every step.\n",
    "x - (2D-array) The position x of the parachute in every step.\n",
    "tp - (double) Time when the parachute opens.\n",
    "tp2 - (double) Time when the box will begin to move on it's own.\n",
    "'''\n",
    "\n",
    "def parachute_trayectory(H, T, Fy, Fx, H_p, H_r, m, V_1, V_2, k_1, k_2, objetive, h):\n",
    "    ...\n",
    "    return [y,x,tp,tp2]\n",
    "```\n",
    "<ul style=\"list-style-type: none;\">\n",
    "Su función debera retornar todos los valores de la posición $(x,y)$ de la caja hasta llegar al objetivo, el tiempo $t_p$ donde se abrirá el paracaídas y el tiempo $t_{p2}$ donde la caja comienza a moverse. En caso de no encontrar una velocidad inicial $v_0$ o un $k_3$ que permita a la encomienda llegar a su destino, su algoritmo deberá indicar que no existe una combinación de parámetros adecuada que permita dejar el paquete en el edificio. Esto se realizará retornando dos arreglos vacios para $(x,y)$, y devolviendo además $t_p=0$, $t_{p2}=0$. Muestre con un *widget* la posición $(x, y)$ del paracaídas a través del tiempo, indicando claramente con *labels* y distintos colores los cambios de los valores de $k$ que presenta el objeto, en cada situación, además del objetivo al cual debe llegar la entrega. Puede usar estos parámetros para testear su algoritmo:"
   ]
  },
  {
   "cell_type": "code",
   "execution_count": 6,
   "metadata": {
    "collapsed": true
   },
   "outputs": [],
   "source": [
    "# Magnitude of gravity acceleration\n",
    "g = 9.8\n",
    "\n",
    "# Constants k1 and k2\n",
    "k1 = 0.001\n",
    "k2 = 0.3096\n",
    "\n",
    "# Mass of the box\n",
    "m = 72\n",
    "\n",
    "# Vectorial field for wind force\n",
    "# Example 1\n",
    "#F_wx = lambda x: -np.sqrt(np.abs(x)) \n",
    "#F_wy = lambda y: -np.sqrt(np.abs(y))\n",
    "#Fw = [F_wx,F_wy]\n",
    "\n",
    "#Example 2\n",
    "F_wx = lambda x,y,t: -np.sqrt(np.abs(x)) - 1000*np.cos(t)*np.sqrt(np.abs(y)) \n",
    "F_wy = lambda x,y,t: -np.sqrt(np.abs(y)) - 1000*np.sin(t)*np.sqrt(np.abs(x))\n",
    "Fw = [F_wx,F_wy]\n",
    "\n",
    "# F function from ODE numerical method\n",
    "# You must find the functions Fx and Fy for your algorithm\n",
    "\n",
    "# h - Time step\n",
    "h = 0.01\n",
    "\n",
    "#Parachute open at 1500 m\n",
    "H_p = 1500\n",
    "H_r = 1200\n",
    "\n",
    "# Initial conditions\n",
    "# Heigh\n",
    "H = 5000\n",
    "\n",
    "# x position of the box when y = [y_1,y_2]\n",
    "pos_x_destiny = 8000\n",
    "pos_y_destiny = 100\n",
    "objetivo = [pos_x_destiny,pos_y_destiny]"
   ]
  },
  {
   "cell_type": "code",
   "execution_count": 109,
   "metadata": {
    "collapsed": true
   },
   "outputs": [],
   "source": [
    "def Fy(t, y, p):\n",
    "    y1 = y[0]\n",
    "    y2 = y[1]\n",
    "    x = p\n",
    "    if(y1>=H_p):\n",
    "        k = k1\n",
    "    else:\n",
    "        k = k2\n",
    "    F = (F_wy(x, y[0], t))\n",
    "    return np.array([y2 , (((k*y2**2)/m)-g + (F/m))])\n",
    "\n",
    "def Fy2(t, y, p, k):\n",
    "    y1 = y[0]\n",
    "    y2 = y[1]\n",
    "    x = p\n",
    "    k = k\n",
    "    F = (F_wy(x, y[0], t))\n",
    "    return np.array([y2 , (((k*y2**2)/m)-g + (F/m))])\n",
    "\n",
    "def Fx(t, x, p):\n",
    "    x1 = x[0]\n",
    "    x2 = x[1]\n",
    "    y = p\n",
    "    k = k1\n",
    "    F = (F_wx(x[0], y , t))\n",
    "    return np.array([x2 , ((k*x2**2)/m) + (F/m)])\n",
    "\n",
    "# Forward Euler Method\n",
    "def euler_ode2(y,p,t,f,h):\n",
    "    return y+h*f(t,y,p)\n",
    "\n",
    "# Forward Euler Method\n",
    "def euler_ode3(y,p,t,f,h, k):\n",
    "    return y+h*f(t,y,p,k)"
   ]
  },
  {
   "cell_type": "code",
   "execution_count": 191,
   "metadata": {
    "collapsed": true
   },
   "outputs": [],
   "source": [
    "g = 9.8\n",
    "k1 = 0.001\n",
    "k2 = 0.9\n",
    "m = 72\n",
    "#F_wx = lambda x,y,t: -np.sqrt(np.abs(x)) - 1000*np.cos(t)*np.sqrt(np.abs(y)) \n",
    "#F_wy = lambda x,y,t: -np.sqrt(np.abs(y)) - 1000*np.sin(t)*np.sqrt(np.abs(x))\n",
    "F_wx = lambda x, y, t: -np.sqrt(np.abs(x)) \n",
    "F_wy = lambda x, y, t: -np.sqrt(np.abs(y))\n",
    "Fw = [F_wx,F_wy]\n",
    "h = 0.01\n",
    "H_p = 1500\n",
    "H_r = 1200\n",
    "H = 5000\n",
    "pos_x_destiny = 8000\n",
    "pos_y_destiny = 100\n",
    "objetivo = [pos_x_destiny,pos_y_destiny]"
   ]
  },
  {
   "cell_type": "code",
   "execution_count": 192,
   "metadata": {
    "collapsed": true
   },
   "outputs": [],
   "source": [
    "def V_X(H, Fy, Fx, H_p, H_r, m, V, k_1, k_2, h):\n",
    "    y0 = [H, 0]\n",
    "    x0 = [0, V]\n",
    "    t_times = [0]\n",
    "    y_output = np.zeros([2,1])\n",
    "    x_output = np.zeros([2,1])\n",
    "    y_output[:,0] = y0\n",
    "    x_output[:,0] = x0\n",
    "    i = 0\n",
    "    while(y_output[0,i] > 0):\n",
    "        i = i+1\n",
    "        t_times = np.append(t_times , i*h)\n",
    "        y_output = np.append(y_output, np.zeros((2,1)), axis=1)\n",
    "        x_output = np.append(x_output, np.zeros((2,1)), axis=1)\n",
    "        y_output[:,i] = euler_ode2(y_output[:,i-1], x_output[0,i-1], t_times[i-1], Fy, h)\n",
    "        x_output[:,i] = euler_ode2(x_output[:,i-1], y_output[0,i-1], t_times[i-1], Fx, h)\n",
    "    return x_output[0,-1]\n",
    "\n",
    "def biseccion(f , V1, V2 , H, Fy, Fx, H_p, H_r, m, k_1, k_2, objetivo, h, tol=0.00001):\n",
    "    fa = f(H, Fy, Fx, H_p, H_r, m, V1, k_1, k_2, h)\n",
    "    fb = f(H, Fy, Fx, H_p, H_r, m, V2, k_1, k_2, h)\n",
    "    a = fa- objetivo[0]\n",
    "    b = fb- objetivo[0]\n",
    "    if(a*b>=0):\n",
    "        return \"No hay valor V que llegue dentro del rango\"\n",
    "    if(a == 0):\n",
    "        return V1\n",
    "    if(b == 0):\n",
    "        return V2\n",
    "    while(np.abs((b-a)/2) > tol):\n",
    "        V_3 = (V1+V2)/2\n",
    "        fc = f(H, Fy, Fx, H_p, H_r, m, V_3, k_1, k_2, h)\n",
    "        c = fc - objetivo[0]\n",
    "        if(np.allclose(c , 0 , atol=10e-6)):\n",
    "            return V_3\n",
    "            break\n",
    "        elif a*c < 0:\n",
    "            V2 = V_3\n",
    "            fb = fc\n",
    "        else:\n",
    "            V1 = V_3\n",
    "            fa = fc\n",
    "    return V_3"
   ]
  },
  {
   "cell_type": "code",
   "execution_count": 223,
   "metadata": {},
   "outputs": [],
   "source": [
    "def BK3(H, Fy, Fx, H_p, H_r, m, V, k_1, k_2, k_3, h, objetivo):\n",
    "    y0 = [H, 0]\n",
    "    x0 = [0, V]\n",
    "    t_times = [0]\n",
    "    y_output = np.zeros([2,1])\n",
    "    x_output = np.zeros([2,1])\n",
    "    y_output[:,0] = y0\n",
    "    x_output[:,0] = x0\n",
    "    i = 0\n",
    "    while(y_output[0,i] > objetivo[1]):\n",
    "        i = i+1\n",
    "        t_times = np.append(t_times , i)\n",
    "        y_output = np.append(y_output, np.zeros((2,1)), axis=1)\n",
    "        x_output = np.append(x_output, np.zeros((2,1)), axis=1)\n",
    "        if(y_output[0,i-1]>H_p):\n",
    "            k = k_1\n",
    "            y_output[:,i] = euler_ode3(y_output[:,i-1], x_output[0,i-1], t_times[i-1], Fy, h , k)\n",
    "            x_output[:,i] = euler_ode2(x_output[:,i-1], y_output[0,i-1], t_times[i-1], Fx, h)\n",
    "        if(y_output[0,i-1]<H_p and y_output[0,i-1]>H_r):\n",
    "            k = k_2\n",
    "            y_output[:,i] = euler_ode3(y_output[:,i-1], x_output[0,i-1], t_times[i-1], Fy, h , k)\n",
    "            x_output[:,i] = euler_ode2(x_output[:,i-1], y_output[0,i-1], t_times[i-1], Fx, h)\n",
    "        if(y_output[0,i-1]<H_r):\n",
    "            k = k_3\n",
    "            y_output[:,i] = euler_ode3(y_output[:,i-1], x_output[0,i-1], t_times[i-1], Fy, h , k)\n",
    "            x_output[:,i] = euler_ode2(x_output[:,i-1], y_output[0,i-1], t_times[i-1], Fx, h)\n",
    "    return x_output[0,-1], y_output[0,-1]\n",
    "\n",
    "def biseccion2(f , K1, K2 , H, Fy, Fx, H_p, H_r, m, V, k_1, k_2, objetivo, h, tol=0.00001):\n",
    "    fa = f(H, Fy, Fx, H_p, H_r, m, V, k_1, k_2, K1, h, objetivo)\n",
    "    fb = f(H, Fy, Fx, H_p, H_r, m, V, k_1, k_2, K2, h, objetivo)\n",
    "    a = np.linalg.norm(fa)- np.linalg.norm(objetivo)\n",
    "    b = np.linalg.norm(fb)- np.linalg.norm(objetivo)\n",
    "    if(a*b>=0):\n",
    "        return \"No hay valor K que llegue dentro del rango\"\n",
    "    if(a == 0):\n",
    "        return K1\n",
    "    if(b == 0):\n",
    "        return K2\n",
    "    while(np.abs((b-a)/2) > tol):\n",
    "        K_3 = (K1+K2)/2\n",
    "        fc = f(H, Fy, Fx, H_p, H_r, m, V,k_1,k_2, K_3, h, objetivo)\n",
    "        c = np.linalg.norm(fc)- np.linalg.norm(objetivo)\n",
    "        if(np.allclose(c , 0 , atol=10e-6)):\n",
    "            return K_3\n",
    "            break\n",
    "        elif a*c < 0:\n",
    "            K2 = K_3\n",
    "            fb = fc\n",
    "        else:\n",
    "            K1 = K_3\n",
    "            fa = fc\n",
    "    return K_3\n",
    "\n",
    "def FF(H, Fy, Fx, H_p, H_r, m, V, k_1, k_2, k_3, h, objetivo):\n",
    "    y0 = [H, 0]\n",
    "    x0 = [0, V]\n",
    "    t_times = [0]\n",
    "    y_output = np.zeros([2,1])\n",
    "    x_output = np.zeros([2,1])\n",
    "    y_output[:,0] = y0\n",
    "    x_output[:,0] = x0\n",
    "    i = 0\n",
    "    while(y_output[0,i] > objetivo[1]):\n",
    "        i = i+1\n",
    "        t_times = np.append(t_times , i*h)\n",
    "        y_output = np.append(y_output, np.zeros((2,1)), axis=1)\n",
    "        x_output = np.append(x_output, np.zeros((2,1)), axis=1)\n",
    "        if(y_output[0,i-1]>H_p):\n",
    "            k = k_1\n",
    "            tp = t_times[i-1]\n",
    "            y_output[:,i] = euler_ode3(y_output[:,i-1], x_output[0,i-1], t_times[i-1], Fy, h , k)\n",
    "            x_output[:,i] = euler_ode2(x_output[:,i-1], y_output[0,i-1], t_times[i-1], Fx, h)\n",
    "        if(y_output[0,i-1]<H_p and y_output[0,i-1]>H_r):\n",
    "            k = k_2\n",
    "            tp2 = t_times[i-1]\n",
    "            y_output[:,i] = euler_ode3(y_output[:,i-1], x_output[0,i-1], t_times[i-1], Fy, h , k)\n",
    "            x_output[:,i] = euler_ode2(x_output[:,i-1], y_output[0,i-1], t_times[i-1], Fx, h)\n",
    "        if(y_output[0,i-1]<H_r):\n",
    "            k = k_3\n",
    "            y_output[:,i] = euler_ode3(y_output[:,i-1], x_output[0,i-1], t_times[i-1], Fy, h , k)\n",
    "            x_output[:,i] = euler_ode2(x_output[:,i-1], y_output[0,i-1], t_times[i-1], Fx, h)\n",
    "    return [x_output, y_output, tp, tp2]"
   ]
  },
  {
   "cell_type": "code",
   "execution_count": 224,
   "metadata": {},
   "outputs": [],
   "source": [
    "def parachute_trayectory(H, Fy, Fx, H_p, H_r, m, V_1, V_2, k_1, k_2, objetivo, h):\n",
    "    V3 = biseccion(V_X, V_1, V_2, H, Fy, Fx, H_p, H_r, m, k_1, k_2, objetivo, h)\n",
    "    K_3 = biseccion2(BK3, k_2*0.8, k_2*1.2, H, Fy2, Fx,H_p,H_r,m, V3, k_1, k_2, objetivo, h)\n",
    "    output = FF(H, Fy2, Fx, H_p, H_r, m, V3, k_1, k_2, K_3, h, objetivo)\n",
    "    return output"
   ]
  },
  {
   "cell_type": "code",
   "execution_count": 225,
   "metadata": {},
   "outputs": [
    {
     "data": {
      "text/plain": [
       "[array([[  0.00000000e+00,   1.27228164e+00,   2.54458577e+00, ...,\n",
       "           7.99848832e+03,   7.99924422e+03,   7.99999999e+03],\n",
       "        [  1.27228164e+02,   1.27230412e+02,   1.27232504e+02, ...,\n",
       "           7.55892809e+01,   7.55776530e+01,   7.55660244e+01]]),\n",
       " array([[  5.00000000e+03,   5.00000000e+03,   4.99999892e+03, ...,\n",
       "           1.00515467e+02,   1.00257691e+02,   9.99999175e+01],\n",
       "        [  0.00000000e+00,  -1.07820928e-01,  -2.15641853e-01, ...,\n",
       "          -2.57775993e+01,  -2.57773953e+01,  -2.57771911e+01]]),\n",
       " 25.760000000000002,\n",
       " 31.699999999999999]"
      ]
     },
     "execution_count": 225,
     "metadata": {},
     "output_type": "execute_result"
    }
   ],
   "source": [
    "parachute_trayectory(5000, Fy, Fx,1500,1200,73,40,400,k1,k2, objetivo ,h)"
   ]
  },
  {
   "cell_type": "markdown",
   "metadata": {},
   "source": [
    "Y su *output* debe ser el siguiente:"
   ]
  },
  {
   "cell_type": "code",
   "execution_count": null,
   "metadata": {
    "collapsed": true,
    "scrolled": true
   },
   "outputs": [],
   "source": [
    "output = np.load('example_output.npy')\n",
    "x = output[0]\n",
    "y = output[1]\n",
    "tp = output[2]\n",
    "tp2 = output[3]\n",
    "print(\"x: \", x)\n",
    "print(\"y: \", y)\n",
    "print(\"tp: \", tp)\n",
    "print(\"tp2: \", tp2)"
   ]
  },
  {
   "cell_type": "markdown",
   "metadata": {},
   "source": [
    "Con estos datos, debe obtener algo similar al siguiente ejemplo:\n",
    "<img src=\"example_photo.png\">"
   ]
  },
  {
   "cell_type": "markdown",
   "metadata": {},
   "source": [
    "Sin embargo, este es un caso de prueba. Al momento de que su tarea sea revisada, se probarán distintos casos de prueba para comprobar que su algoritmo realice el trabajo."
   ]
  },
  {
   "cell_type": "markdown",
   "metadata": {},
   "source": [
    "# Instrucciones:\n",
    "\n",
    "* La estructura del laboratorio es la siguiente:\n",
    "     1. Título, nombre de estudiante, email y rol.\n",
    "     2. Introducción.\n",
    "     3. Desarrollo y análisis de resultados.\n",
    "     4. Conclusiones.\n",
    "     5. Referencias.\n",
    "* El laboratorio debe ser realizado en `Jupyter Notebook` (`Python3`).\n",
    "* Se evaluará la correcta utilización de librerias `NumPy`, `SciPy`, `SymPy`, `Matplotlib` y `ipywidgets`, así como la correcta implementación de algoritmos vectorizados.\n",
    "* El archivo de entrega debe denominarse Tarea3-rol.tar.gz y debe contener un directorio con todos los archivos necesarios para ejecutar el notebook, junto con un archivo README indicando explícitamente las librerías o módulos utilizados, nombre y rol del estudiante. El _notebook_ debe tener como nombre Tarea3-rol.ipynb.\n",
    "* El descuento por día de atraso será de $30$ puntos, con un máximo de 1 día de atraso. No se recibirán entregas después de este día.\n",
    "* Debe citar toda fuente de código externo. \n",
    "* El trabajo es personal, no se permite compartir código ni utilizar código de otros, aunque sí se sugiere discutir aspectos generales con sus compañeros.\n",
    "* En caso de sospecha de no cumplimiento de estas instrucciones, se solicitará al involucrado o la involucrada a aclarar la situación. Dependiendo de la justificación se decidirá su calificación, la cual podrá o no ser penalizada.\n",
    "* El no seguir estas instrucciones, implica descuentos en su nota obtenida."
   ]
  }
 ],
 "metadata": {
  "kernelspec": {
   "display_name": "Python 3",
   "language": "python",
   "name": "python3"
  },
  "language_info": {
   "codemirror_mode": {
    "name": "ipython",
    "version": 3
   },
   "file_extension": ".py",
   "mimetype": "text/x-python",
   "name": "python",
   "nbconvert_exporter": "python",
   "pygments_lexer": "ipython3",
   "version": "3.6.2"
  }
 },
 "nbformat": 4,
 "nbformat_minor": 2
}
