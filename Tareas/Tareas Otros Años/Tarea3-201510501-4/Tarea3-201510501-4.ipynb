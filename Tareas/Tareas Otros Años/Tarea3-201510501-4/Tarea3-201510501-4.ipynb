{
 "cells": [
  {
   "cell_type": "markdown",
   "metadata": {},
   "source": [
    "<img src=\"escudo_utfsm.gif\" style=\"float:right;height:100px\">\n",
    "<img src=\"IsotipoDIisocolor.png\" style=\"float:left;height:100px\">\n",
    "<center>\n",
    "    <h1> ILI286 Computación Científica II</h1>\n",
    "    <h1> Tarea N°3: Modelando Poblaciones de Plancton </h1>\n",
    "    <h3> [S]cientific [C]omputing [T]eam 2018</h3>\n",
    "<h4> Hugo Gabriel Parada Ríos  </h4>\n",
    "    <h5> Correo:hugo.parada@sansano.usm.cl           Rol:201510501-4 </h5>\n",
    "</center>\n",
    "\n",
    "<p>\n",
    "<center> Fecha de entrega: 10 de Diciembre 2018 </center>\n",
    "</p>\n",
    "---"
   ]
  },
  {
   "cell_type": "code",
   "execution_count": null,
   "metadata": {},
   "outputs": [],
   "source": [
    "%matplotlib inline\n",
    "import matplotlib as plt\n",
    "from matplotlib import pyplot\n",
    "import numpy as np\n",
    "from matplotlib.legend_handler import HandlerLine2D\n",
    "from numpy import newaxis\n",
    "import matplotlib.pyplot as plt\n",
    "from mpl_toolkits.mplot3d import axes3d"
   ]
  },
  {
   "cell_type": "code",
   "execution_count": null,
   "metadata": {},
   "outputs": [],
   "source": [
    "def index(i, j, nCols=(Ny+1)): #indexing function\n",
    "    return j + i*nCols"
   ]
  },
  {
   "cell_type": "markdown",
   "metadata": {},
   "source": [
    "## Introducción\n",
    "---\n",
    "\n",
    "Para esta tarea se modelará un comportamiento _Predator-Prey_, en donde los depredadores serán los Zooplanctons pertenecientes al reino animal y las presas serán Fitoplanctons, pertenecientes al reino vegetal.\n",
    "\n",
    "<img src=\"plankton.jpg\"/>"
   ]
  },
  {
   "cell_type": "markdown",
   "metadata": {},
   "source": [
    "## Ecuaciones del Problema\n",
    "---\n",
    "\n",
    "Sean $u = u(x, y, t)$ la concentración de Fitoplanctons y $v = v(x, y, t)$, la concentración de Zooplanctons en una columna de agua de área basal $\\Delta x \\cdot \\Delta y$ en determinado instante de tiempo $t$, en donde se asume una distribución vertical uniforme de los mismos a lo alto de la columna. Estas funciones se pueden modelar con el siguiente sistema de ecuaciones diferenciales:\n",
    "\n",
    "$$ \\dfrac{\\partial u}{\\partial t} = \\Delta u + u\\,(1-u) - \\frac{u\\,v}{u+h} $$\n",
    "$$ \\dfrac{\\partial v}{\\partial t}= \\Delta v + \\frac{k\\,u\\,v}{u+h} - m\\,v $$\n",
    "\n",
    "en donde las constantes $r$, $h$, $k$ y $m$ dependen de diferentes factores externos. Se requiere encontrar funciones solución **no triviales**. Además, consideraremos:\n",
    "$\n",
    "k = 2,\n",
    "r = 0.3,\n",
    "h = 0.4,\n",
    "m = r \\cdot k.\n",
    "$\n",
    "\n",
    "Las condiciones de borde del problema son de flujo nulo, es decir:\n",
    "$$\n",
    "u_x(\\partial \\Omega_x, t) = u_y(\\partial \\Omega_y, t) = 0\n",
    "$$\n",
    "\n",
    "$$\n",
    "v_x(\\partial \\Omega_x, t) = v_y(\\partial \\Omega_y, t) = 0\n",
    "$$\n",
    "en donde $\\partial \\Omega_x$ es la frontera del dominio en el eje x (es decir en $x=x_0$ y $x=x_n$). Análogamente para $y$.\n",
    "\n",
    "Adicionalmente, se han identificado los siguientes puntos fijos no triviales para las poblaciones:\n",
    "$$\n",
    "u_* = \\frac{r\\,h}{1-r}\\\\\n",
    "v_* = (1-u_*)\\,(h+u_*)\n",
    "$$\n",
    "a partir de los cuales se define el estado inicial del sistema\n",
    "$$\n",
    "u(x, y, 0) = u_* - 2\\cdot 10^{-7}(x - 180)(x - 720) - 6\\cdot 10^{-7}(y - 90)(y - 210)\\\\\n",
    "v(x, y, 0) = v_* - 3\\cdot 10^{-5}(x - 450) - 6\\cdot 10^{-5}(y - 135)\n",
    "$$\n",
    "El dominio $\\Omega=[0,900]\\times[0,300]$."
   ]
  },
  {
   "cell_type": "markdown",
   "metadata": {},
   "source": [
    "## Preguntas\n",
    "---"
   ]
  },
  {
   "cell_type": "markdown",
   "metadata": {},
   "source": [
    "### [40 puntos] 1.- Discretización\n",
    "---"
   ]
  },
  {
   "cell_type": "markdown",
   "metadata": {},
   "source": [
    "* Discretice las ecuaciones y condiciones de borde utilizando un esquema explícito."
   ]
  },
  {
   "cell_type": "markdown",
   "metadata": {},
   "source": [
    "## Solución\n",
    "\n",
    "Consideremos, $f:\\mathbb{R^{2}}\\mapsto \\mathbb{R}$, recordemos que el operador diferencial *Laplaciano* ($\\Delta$) se caracteriza por:\n",
    "$$\\Delta=\\left(\\frac{\\partial^{2}}{\\partial x^2}+\\frac{\\partial^{2}}{\\partial x^2}\\right)$$\n",
    "y que las discretizaciones de las segundas derivadas, viene dada por:\n",
    "\n",
    "$$\\dfrac{\\partial^2 f}{\\partial x^2} \\approx \\dfrac{f(x+\\Delta x,y)-2f(x,y)+f(x-\\Delta x,y)}{\\Delta x^2}$$\n",
    "\n",
    "$$\\dfrac{\\partial^2 f}{\\partial y^2} \\approx \\dfrac{f(x,y+\\Delta y)-2f(x,y)+f(x,y-\\Delta y)}{\\Delta y^2}$$\n",
    "\n",
    "Así la discretización del *Laplaciano* se expresa como:\n",
    "\n",
    "$$\\Delta f \\approx \\dfrac{f(x+\\Delta x,y)-2f(x,y)+f(x-\\Delta x,y)}{\\Delta x^2} + \\dfrac{f(x,y+\\Delta y)-2f(x,y)+f(x,y-\\Delta y)}{\\Delta y^2} $$\n",
    "\n",
    "Considere ahora que $f=f(x,y,t)$, y consideremos el espacio de acción $[0,900] \\times [0,300] \\times \\mathbb{R}_{+}$ y una discretización:\n",
    "\n",
    "$$x_{i}=x_{0}+i\\Delta x=i\\Delta x  \\ \\ i=0,1,\\cdots, N_x$$\n",
    "\n",
    "$$y_{j}=y_{0}+j\\Delta y=j\\Delta y  \\ \\ j=0,1,\\cdots, N_y $$\n",
    "\n",
    "$$t_{n}=t_{0}+n\\Delta t=n\\Delta t  \\ \\ n=0,1,\\cdots, N_t$$\n",
    "\n",
    "Haciendo mención de que se resuelve para un tiempo finito $T$, y donde:\n",
    "\n",
    "$$\\Delta x=\\frac{900}{N_x}$$\n",
    "\n",
    "$$\\Delta y=\\frac{300}{N_y}$$\n",
    "\n",
    "$$\\Delta t=\\frac{T}{N_t}$$\n",
    "\n",
    "Dado que estamos considerando un esquema explicito, discretizamos la derivada temporal por:\n",
    "\n",
    "$$\\dfrac{\\partial f(x,y,t)}{\\partial t} \\approx \\dfrac{f(x,y,t+\\Delta t)-f(x,y,t)}{\\Delta t}$$\n",
    "Finalmente ocupando la notación $f_{i,j}^{n}=f(x_i,y_j,t_n)$ obtenemos para $u$ y $v$:\n",
    "\n",
    "$$\\dfrac{u_{i,j}^{n+1}-u_{i,j}^{n}}{\\Delta t}= \\dfrac{u_{i+1,j}^{n}-2u_{i,j}^{n}+u_{i-1,j}^{n}}{\\Delta x^2}+ \\dfrac{u_{i,j+1}^{n}-2u_{i,j}^{n}+u_{i,j-1}^{n}}{\\Delta y^2}+u_{i,j}^{n}(1-u_{i,j}^{n})- \\dfrac{u_{i,j}^{n}v_{i,j}^{n}}{u_{i,j}^{n}+h}$$\n",
    "\n",
    "$$\\dfrac{v_{i,j}^{n+1}-v_{i,j}^{n}}{\\Delta t}= \\dfrac{v_{i+1,j}^{n}-2v_{i,j}^{n}+v_{i-1,j}^{n}}{\\Delta x^2}+ \\dfrac{v_{i,j+1}^{n}-2v_{i,j}^{n}+v_{i,j-1}^{n}}{\\Delta y^2}+k\\dfrac{u_{i,j}^{n}v_{i,j}^{n}}{u_{i,j}^{n}+h}-mv_{i,j}^{n}$$\n",
    "\n",
    "$\\forall i \\in \\{1,\\cdots,N_x-1\\}$, $\\forall j \\in \\{1,\\cdots,N_y-1\\}$ y $\\forall n \\in \\{0,\\cdots,N_t-1\\}$"
   ]
  },
  {
   "cell_type": "markdown",
   "metadata": {},
   "source": [
    "Veamos ahora como se traducen las condiciones de borde, para ello utilizaremos la siguiente discretización de la primera derivada:\n",
    "\n",
    "$$\\dfrac{\\partial f}{\\partial x}(x) \\approx \\dfrac{f(x+h)-f(x)}{h}$$\n",
    "\n",
    "De esta forma la condición de borde $u_x(\\partial \\Omega_x, t)=0$, se traduce en:\n",
    "\n",
    "$$\\dfrac{u_{1,j}^{n}-u_{0,j}^{n}}{\\Delta x}=0 \\ \\ \\ \\ \\text{ y que } \\ \\ \\ \\  \\dfrac{u_{N_\n",
    "{x},j}^{n}-u_{N_{x}-1,j}^{n}}{\\Delta x}=0\\ \\ \\ \\ \\forall j,n \\in \\{0,\\cdots,N_y\\}\\times \\{0,\\cdots,N_y\\}$$\n",
    "\n",
    "$\\Rightarrow$ $u_{1,j}^{n}=u_{0,j}^{n}$  y   $u_{N_\n",
    "{x},j}^{n}=u_{N_{x}-1,j}^{n}$  $\\forall j,n \\in \\{0,\\cdots,N_y\\}\\times \\{0,\\cdots,N_t\\}$\n",
    "\n",
    "De manera analoga para las otras restricciones se sigue que:\n",
    "\n",
    "$u_y(\\partial \\Omega_y, t)=0 \\ \\ \\ \\Rightarrow u_{i,1}^{n}=u_{i,0}^{n}$  y   $u_{i,N_\n",
    "{y}}^{n}=u_{i,N_{y}-1}^{n}$  $\\forall i,n \\in \\{0,\\cdots,N_x\\}\\times \\{0,\\cdots,N_t\\}$\n",
    "\n",
    "$v_x(\\partial \\Omega_x, t)=0 \\ \\ \\ \\Rightarrow v_{1,j}^{n}=u_{0,j}^{n}$  y   $v_{N_\n",
    "{x},j}^{n}=v_{N_{x}-1,j}^{n}$  $\\forall j,n \\in \\{0,\\cdots,N_y\\}\\times \\{0,\\cdots,N_t\\}$\n",
    "\n",
    "$v_y(\\partial \\Omega_y, t)=0 \\ \\ \\ \\Rightarrow v_{i,1}^{n}=v_{i,0}^{n}$  y   $v_{i,N_\n",
    "{y}}^{n}=v_{i,N_{y}-1}^{n}$  $\\forall i,n \\in \\{0,\\cdots,N_x\\}\\times \\{0,\\cdots,N_t\\}$\n",
    "\n",
    "Con respecto a la condición inicial, sabemos que para $u$.\n",
    "\n",
    "$$u(x, y, 0) = u_* - 2\\cdot 10^{-7}(x - 180)(x - 720) - 6\\cdot 10^{-7}(y - 90)(y - 210)$$\n",
    "\n",
    "Discretizando obtenemos que:\n",
    "\n",
    "$$u_{i,j}^{0}=u_*-2\\cdot 10^{-7}(i\\Delta x - 180)(i \\Delta x - 720) - 6\\cdot 10^{-7}(j\\Delta y - 90)(j\\Delta y - 210) \\ \\ \\ \\ \\forall i,j \\in \\{0,\\cdots,N_x\\}\\times \\{0,\\cdots,N_y\\}$$\n",
    "\n",
    "Para $v$ se tiene que:\n",
    "\n",
    "$$v(x, y, 0) = v_* - 3\\cdot 10^{-5}(x - 450) - 6\\cdot 10^{-5}(y - 135)$$\n",
    "\n",
    "y discretizando se sigue que:\n",
    "\n",
    "$$v_{i,j}^{0} = v_* - 3\\cdot 10^{-5}(i\\Delta x - 450) - 6\\cdot 10^{-5}(j\\Delta - 135)  \\ \\ \\ \\ \\forall i,j \\in \\{0,\\cdots,N_x\\}\\times \\{0,\\cdots,N_y\\}$$"
   ]
  },
  {
   "cell_type": "markdown",
   "metadata": {},
   "source": [
    "Juntando todo el desarrollo: Obtenemos que la discretización se ve como:\n",
    "\n",
    "$$\\dfrac{u_{i,j}^{n+1}-u_{i,j}^{n}}{\\Delta t}= \\dfrac{u_{i+1,j}^{n}-2u_{i,j}^{n}+u_{i-1,j}^{n}}{\\Delta x^2}+ \\dfrac{u_{i,j+1}^{n}-2u_{i,j}^{n}+u_{i,j-1}^{n}}{\\Delta y^2}+u_{i,j}^{n}(1-u_{i,j}^{n})- \\dfrac{u_{i,j}^{n}v_{i,j}^{n}}{u_{i,j}^{n}+h} \\ \\ \\ \\ \\ \\ \\ (1) $$\n",
    "\n",
    "$$\\dfrac{v_{i,j}^{n+1}-v_{i,j}^{n}}{\\Delta t}= \\dfrac{v_{i+1,j}^{n}-2v_{i,j}^{n}+v_{i-1,j}^{n}}{\\Delta x^2}+ \\dfrac{v_{i,j+1}^{n}-2v_{i,j}^{n}+v_{i,j-1}^{n}}{\\Delta y^2}+k\\dfrac{u_{i,j}^{n}v_{i,j}^{n}}{u_{i,j}^{n}+h}-mv_{i,j}^{n} \\ \\ \\ \\ \\ \\ \\ \\ \\ \\ (2)$$\n",
    "\n",
    "$$\\forall i \\in \\{1,\\cdots,N_x-1\\} \\ \\ \\ \\forall j \\in \\{1,\\cdots,N_y-1\\} \\ \\ \\ \\forall n \\in \\{0,\\cdots,N_t-1\\}$$\n",
    "\n",
    " $$u_{1,j}^{n}=u_{0,j}^{n}  \\text{ y }   u_{N_\n",
    "{x},j}^{n}=u_{N_{x}-1,j}^{n} \\ \\ \\ \\forall j,n \\in \\{0,\\cdots,N_y\\}\\times \\{0,\\cdots,N_t\\}$$\n",
    "\n",
    "\n",
    "$$u_{i,1}^{n}=u_{i,0}^{n} \\text{ y } u_{i,N_\n",
    "{y}}^{n}=u_{i,N_{y}-1}^{n} \\ \\ \\ \\forall i,n \\in \\{0,\\cdots,N_x\\}\\times \\{0,\\cdots,N_t\\}$$\n",
    "\n",
    "$$v_{1,j}^{n}=u_{0,j}^{n} \\text{ y } v_{N_\n",
    "{x},j}^{n}=v_{N_{x}-1,j}^{n} \\ \\ \\ \\forall j,n \\in \\{0,\\cdots,N_y\\}\\times \\{0,\\cdots,N_t\\}$$\n",
    "\n",
    "$$v_{i,1}^{n}=v_{i,0}^{n} \\text{ y } v_{i,N_\n",
    "{y}}^{n}=v_{i,N_{y}-1}^{n} \\ \\ \\ \\forall i,n \\in \\{0,\\cdots,N_x\\}\\times \\{0,\\cdots,N_t\\}$$\n",
    "\n",
    "$$u_{i,j}^{0}=u_*-2\\cdot 10^{-7}(i\\Delta x - 180)(i \\Delta x - 720) - 6\\cdot 10^{-7}(j\\Delta y - 90)(j\\Delta y - 210) \\ \\ \\ \\ \\forall i,j \\in \\{0,\\cdots,N_x\\}\\times \\{0,\\cdots,N_y\\}$$\n",
    "\n",
    "$$v_{i,j}^{0} = v_* - 3\\cdot 10^{-5}(i\\Delta x - 450) - 6\\cdot 10^{-5}(j\\Delta - 135)  \\ \\ \\ \\ \\forall i,j \\in \\{0,\\cdots,N_x\\}\\times \\{0,\\cdots,N_y\\}$$"
   ]
  },
  {
   "cell_type": "markdown",
   "metadata": {},
   "source": [
    "Como es un sistema de ecuaciones diferenciales parciales parabolico, el esquema de diferencias finitas evolucionará la solución a lo largo del tiempo, de esta manera, en cada iteración calculamos los valores de $u_{i,j}^{n+1},v_{i,j}^{n+1}$ en función de los calculados anteriormente.Con esta idea en mente, podemos escribir las ecuaciones $(1),(2)$, como:\n",
    "\n",
    "$$u_{i,j}^{n+1}=\\alpha u_{i+1,j}^{n}+(\\sigma +\\Delta t)u_{i,j}^{n} +\\alpha u_{i-1,j}^{n}+\\beta u_{i,j+1}^{n}+\\beta u_{i,j-1}^{n}-\\Delta t(u_{i,j}^{n})^2-\\Delta t\\left(\\dfrac{u_{i,j}^{n}v_{i,j}^{n}}{u_{i,j}^{n}+h}\\right)$$\n",
    "\n",
    "$$v_{i,j}^{n+1}=\\alpha v_{i+1,j}^{n}+\\sigma v_{i,j}^{n} +\\alpha v_{i-1,j}^{n}+\\beta v_{i,j+1}^{n}+\\beta v_{i,j-1}^{n}-\\Delta tk\\left(\\dfrac{u_{i,j}^{n}v_{i,j}^{n}}{u_{i,j}^{n}+h}\\right)$$\n",
    "\n",
    "Donde $\\alpha=\\frac{\\Delta t}{\\Delta x^2}$ , $\\beta=\\frac{\\Delta t}{\\Delta y^2}$ y $\\sigma =1-2\\alpha-2\\beta$."
   ]
  },
  {
   "cell_type": "markdown",
   "metadata": {},
   "source": [
    "### [40 puntos] 2.- Implementación\n",
    "---"
   ]
  },
  {
   "cell_type": "markdown",
   "metadata": {},
   "source": [
    "* Visualice el resultado final luego de 1000 unidades de tiempo, i.e. $t=1000$.\n",
    "* Muestre una simulación estable y otra inestable."
   ]
  },
  {
   "cell_type": "markdown",
   "metadata": {},
   "source": [
    "## Solución\n",
    "\n",
    "Se comienza creando la función que resuelve la *EDP* con el esquema explicito"
   ]
  },
  {
   "cell_type": "code",
   "execution_count": null,
   "metadata": {},
   "outputs": [],
   "source": [
    "def solver_pde_system(u,u_n,v,v_n,dx,dy,dt,h,k,m,r,T): #Recall that un is the initial condition that we evolve.\n",
    "    alpha=(dt/dx**2) #Put the constants asociated to problem\n",
    "    beta=(dt/dy**2)\n",
    "    sigma=1-2*alpha-2*beta\n",
    "    for l in range(T):\n",
    "        u_xx = u_n[:-2,1:-1] - 2*u_n[1:-1,1:-1] + u_n[2:,1:-1] #We do de discretization of second derivates\n",
    "        u_yy = u_n[1:-1,:-2] - 2*u_n[1:-1,1:-1] + u_n[1:-1,2:]\n",
    "        v_xx = v_n[:-2,1:-1] - 2*v_n[1:-1,1:-1] + v_n[2:,1:-1]\n",
    "        v_yy = v_n[1:-1,:-2] - 2*v_n[1:-1,1:-1] + v_n[1:-1,2:]\n",
    "        u[1:-1,1:-1] =alpha*u_xx +beta*u_yy+dt*(u_n[1:-1,1:-1]*(1-u_n[1:-1,1:-1]))-dt*(u_n[1:-1,1:-1]*v_n[1:-1,1:-1])/(u_n[1:-1,1:-1]+h)+u_n[1:-1,1:-1]\n",
    "        v[1:-1,1:-1] =alpha*v_xx+beta*v_yy+k*dt*(u_n[1:-1,1:-1]*v_n[1:-1,1:-1])/(u_n[1:-1,1:-1]+h)+(1-m*dt)*v_n[1:-1,1:-1]\n",
    "        #Actualizate u and v\n",
    "        \n",
    "        # For our developed the boundary conditions can be written by.\n",
    "        u[0,:]=u[1,:]\n",
    "        u[Nx,:]=u[Nx-1,:]\n",
    "        v[0,:]=v[1,:]\n",
    "        v[Nx,:]=v[Nx-1,:]\n",
    "        u[:,0]=u[:,1]\n",
    "        u[:,Ny]=u[:,Ny-1]\n",
    "        v[:,0]=v[:,1]\n",
    "        v[:,Ny]=v[:,Ny-1]\n",
    "        u_n=u\n",
    "        v_n=v\n",
    "    return u,v"
   ]
  },
  {
   "cell_type": "markdown",
   "metadata": {},
   "source": [
    "Lo que es el codigo de solución de forma implicita de nuestro problema.Veamos ahora dos casos uno estable y uno inestable.\n",
    "\n",
    "En primer lugar inicializamos los parametros del problema:"
   ]
  },
  {
   "cell_type": "code",
   "execution_count": null,
   "metadata": {},
   "outputs": [],
   "source": [
    "k = 2\n",
    "r = 0.3\n",
    "h = 0.4\n",
    "m = r*k\n",
    "Lx=900\n",
    "Ly=300\n",
    "T=1000 # We can change this parameter if we want obtain the solution at other.\n",
    "uf=r*h/(1-r) #Parameter of problem\n",
    "vf= (1-uf)*(h+uf) #Parameter of problem\n",
    "f1= lambda x,y:  uf - 2*10**(-7)*(x - 180)*(x - 720) - 6*10**(-7)*(y - 90)*(y - 210) #Functions of initial condition.\n",
    "f2= lambda x,y:  vf -3*10**(-5)*(x-450)-6*10**(-5)*(y-135)\n"
   ]
  },
  {
   "cell_type": "markdown",
   "metadata": {},
   "source": [
    "## Caso estable.\n",
    "\n",
    "Recordemos que para las ecuaciones hiperbolicas, la condición de establidad para el esquema explicito viene dada por:\n",
    "\n",
    "$$D\\frac{\\Delta t}{\\Delta x^{2}} \\leq \\frac{1}{2}$$\n",
    "\n",
    "En nuestro caso $D=1$ y dado que tenemos discretización espacial en las coordenadas $x,y$ pedimos que:\n",
    "\n",
    "$$\\frac{\\Delta t}{\\Delta x^{2}} \\leq \\frac{1}{2} \\ \\ \\text{ y que } \\ \\ \\ \\frac{\\Delta t}{\\Delta y^{2}} \\leq \\frac{1}{2}$$"
   ]
  },
  {
   "cell_type": "code",
   "execution_count": null,
   "metadata": {},
   "outputs": [],
   "source": [
    "Nx=100  #We mesh the same in x and y for do more simple the plot\n",
    "Ny=100\n",
    "Nt=100\n",
    "x = np.linspace(0, Lx, Nx+1) # Mesh in x\n",
    "y = np.linspace(0, Ly, Ny+1) # Mesh in  y\n",
    "dx = x[1] - x[0]\n",
    "dy = y[1] - y[0]\n",
    "dt=0.11 #you can choosse for do stability or not\n",
    "\n",
    "Nt = int(round(T/float(dt)))\n",
    "t = np.linspace(0, T, Nt+1) #Mesh in t\n",
    "xv = x[:,newaxis] # For work of well manner in vectorized form\n",
    "yv = y[newaxis,:]"
   ]
  },
  {
   "cell_type": "markdown",
   "metadata": {},
   "source": [
    "Veamos que pasa con las cantidades, $\\frac{\\Delta t}{\\Delta x^{2}},\\frac{\\Delta t}{\\Delta y^{2}}$"
   ]
  },
  {
   "cell_type": "code",
   "execution_count": null,
   "metadata": {},
   "outputs": [],
   "source": [
    "dt/dy**2,dt/dx**2"
   ]
  },
  {
   "cell_type": "markdown",
   "metadata": {},
   "source": [
    "Lo anterior nos dice que estamos en una situación estable,se procede a inicializar las variables y resolvemos."
   ]
  },
  {
   "cell_type": "code",
   "execution_count": null,
   "metadata": {},
   "outputs": [],
   "source": [
    "u = np.zeros((Nx+1,Ny+1))\n",
    "v = np.zeros((Nx+1,Ny+1))\n",
    "u_n = np.zeros((Nx+1,Ny+1)) #un,vn will be our initial condition\n",
    "v_n = np.zeros((Nx+1,Ny+1))\n",
    "u_n[:,:] = f1(xv, yv) #actualizate the intial condition.\n",
    "v_n[:,:] = f2(xv, yv) "
   ]
  },
  {
   "cell_type": "code",
   "execution_count": null,
   "metadata": {},
   "outputs": [],
   "source": [
    "solu,solv=solver_pde_system(u,u_n,v,v_n,dx,dy,dt,h,k,m,r,T);\n",
    "solv,solu "
   ]
  },
  {
   "cell_type": "markdown",
   "metadata": {},
   "source": [
    "Ahora graficamos la solución obtenida."
   ]
  },
  {
   "cell_type": "code",
   "execution_count": null,
   "metadata": {},
   "outputs": [],
   "source": [
    "\n",
    "X,Y=np.meshgrid(x,y)\n",
    "fig = plt.figure()\n",
    "fig.set_dpi(100)\n",
    "ax1 = fig.gca(projection='3d')\n",
    "ax1.clear()\n",
    "ax1.plot_surface(X,Y,solu,rstride=1, cstride=1,cmap=plt.cm.jet,linewidth=0,antialiased=False)\n",
    "#surf = ax1.plot_surface(X, T, u, rstride=1, cstride=1, cmap=cm.coolwarm, linewidth=0, antialiased=False)\n",
    "ax1.set_zlim(0,np.max(solu))\n",
    "ax1.set_xlim(0,900)\n",
    "ax1.set_ylim(0,300)\n",
    "plt.title('Concentración de Fitoplanctons transcurridos t=1000 seg')\n",
    "plt.show()\n",
    "fig = plt.figure()\n",
    "fig.set_dpi(100)\n",
    "ax2 = fig.gca(projection='3d')\n",
    "ax2.clear()\n",
    "ax2.plot_surface(X,Y,solv,rstride=1, cstride=1,cmap=plt.cm.jet,linewidth=0,antialiased=False)\n",
    "ax2.set_zlim(0,np.max(solv))\n",
    "ax2.set_xlim(0,900)\n",
    "ax2.set_ylim(0,300)\n",
    "plt.title('Concentración de Zooplanctons transcurridos t=1000 seg')\n",
    "plt.show()"
   ]
  },
  {
   "cell_type": "markdown",
   "metadata": {},
   "source": [
    "## Caso inestable.\n",
    "\n",
    "Consideremos los siguientes parametros."
   ]
  },
  {
   "cell_type": "code",
   "execution_count": null,
   "metadata": {},
   "outputs": [],
   "source": [
    "Nx=100  #We mesh the same in x and y for do more simple the plot\n",
    "Ny=100\n",
    "Nt=100\n",
    "x = np.linspace(0, Lx, Nx+1) # Mesh in x\n",
    "y = np.linspace(0, Ly, Ny+1) # Mesh in  y\n",
    "dx = x[1] - x[0]\n",
    "dy = y[1] - y[0]\n",
    "dt=5 #you can choosse for do stability or not\n",
    "\n",
    "Nt = int(round(T/float(dt)))\n",
    "t = np.linspace(0, T, Nt+1) #Mesh in t\n",
    "xv = x[:,newaxis] # For work of well manner in vectorized form\n",
    "yv = y[newaxis,:]"
   ]
  },
  {
   "cell_type": "markdown",
   "metadata": {},
   "source": [
    "Veamos que pasa con las cantidades, $\\frac{\\Delta t}{\\Delta x^{2}},\\frac{\\Delta t}{\\Delta y^{2}}$"
   ]
  },
  {
   "cell_type": "code",
   "execution_count": null,
   "metadata": {},
   "outputs": [],
   "source": [
    "dt/dx**2,dt/dy**2"
   ]
  },
  {
   "cell_type": "markdown",
   "metadata": {},
   "source": [
    "Como para $y$ no se tiene la condición de estabilidad, la solución no convergerá.Inicializamos las variables y resolvemos, obteniendo:"
   ]
  },
  {
   "cell_type": "code",
   "execution_count": null,
   "metadata": {},
   "outputs": [],
   "source": [
    "u = np.zeros((Nx+1,Ny+1))\n",
    "v = np.zeros((Nx+1,Ny+1))\n",
    "u_n = np.zeros((Nx+1,Ny+1)) #un,vn will be our initial condition\n",
    "v_n = np.zeros((Nx+1,Ny+1))\n",
    "u_n[:,:] = f1(xv, yv) #actualizate the intial condition.\n",
    "v_n[:,:] = f2(xv, yv) \n",
    "solu,solv=solver_pde_system(u,u_n,v,v_n,dx,dy,dt,h,k,m,r,T);\n",
    "solv,solu"
   ]
  },
  {
   "cell_type": "markdown",
   "metadata": {},
   "source": [
    "Note que el sistema nos alerta de que tuvo problemas al calcular la solución.Gráficamente:\n"
   ]
  },
  {
   "cell_type": "code",
   "execution_count": null,
   "metadata": {},
   "outputs": [],
   "source": [
    "X,Y=np.meshgrid(x,y)\n",
    "fig = plt.figure()\n",
    "fig.set_dpi(100)\n",
    "ax1 = fig.gca(projection='3d')\n",
    "ax1.clear()\n",
    "ax1.plot_surface(X,Y,solu,rstride=1, cstride=1,cmap=plt.cm.jet,linewidth=0,antialiased=False)\n",
    "#surf = ax1.plot_surface(X, T, u, rstride=1, cstride=1, cmap=cm.coolwarm, linewidth=0, antialiased=False)\n",
    "ax1.set_zlim(0,np.max(solu))\n",
    "ax1.set_xlim(0,900)\n",
    "ax1.set_ylim(0,300)\n",
    "plt.title('Concentración de Fitoplanctons transcurridos t=1000 seg')\n",
    "#fig.colorbar(surf, shrink=0.5, aspect=5)\n",
    "plt.show()\n",
    "fig = plt.figure()\n",
    "fig.set_dpi(100)\n",
    "ax2 = fig.gca(projection='3d')\n",
    "ax2.clear()\n",
    "ax2.plot_surface(X,Y,solv,rstride=1, cstride=1,cmap=plt.cm.jet,linewidth=0,antialiased=False)\n",
    "ax2.set_zlim(0,np.max(solv))\n",
    "ax2.set_xlim(0,900)\n",
    "ax2.set_ylim(0,300)\n",
    "plt.title('Concentración de Zooplanctons transcurridos t=1000 seg')\n",
    "plt.show()"
   ]
  },
  {
   "cell_type": "markdown",
   "metadata": {},
   "source": [
    "Donde se observa los valores no dan a lugar, a causa de que bajo estas condiciones el esquema no es convergente."
   ]
  },
  {
   "cell_type": "markdown",
   "metadata": {},
   "source": [
    "### [10 puntos] 3.- Análisis y conclusión\n",
    "---"
   ]
  },
  {
   "cell_type": "markdown",
   "metadata": {},
   "source": [
    "Comente acerca de los resultados obtenidos:\n",
    "* Comente sobre las concentraciones de Fitoplanctons y Zooplanctons.\n",
    "* Identifique el(los) cuello(s) de botella en cuanto al orden de convergencia del modelo.\n",
    "\n",
    "## Desarrollo"
   ]
  },
  {
   "cell_type": "markdown",
   "metadata": {},
   "source": [
    "Analicemos un poco, los resultados obtenidos,note que en la primera simulación , las soluciones tienen una formación suave, tanto la concentración de Fitoplanctos como los Zooplanctos tiene forma de cerros con la principal caracteristica de que los lugares de mayor concentración (color rojo) coinciden de igual manera pasa con los de menor concentración en los *Fitoplanctos* y *Zooplanctons* .Otro aspecto a considerar es el hecho de que tanto las curvas como la coloración de los resultados son suaves, la coloración en el sentido de que no hay cambios abruptos de color, lo que hace presagiar que los zooplanctos viven en grupos y no de manera individual y se concentran donde hay mayor concentración de fitoplanctos. Note además que por los gráficos podemos inferir que su dinamica es estable en el sentido de que no lleva a la extinción de alguno de las dos poblaciones involucradas (por lo menos hasta el tiempo $T=1000 [seg]$)\n",
    "\n",
    "\n",
    "Como observación importante note que en la segunda simulación $\\frac{\\Delta t}{\\Delta x^2}$ satisface la hipotesis de estabilidad lo que se podría se un atisbo errado de que la solución para $u$ converga, pero esto no ocurre y se debe a la caracteristica de sistema acoplado del problema.\n",
    "\n",
    "Veamos un poco, que pasa con la convergencia del modelo.Para ello recuerde que la condición de estabilidad es $\\dfrac{\\Delta t}{\\Delta x^2}\\leq \\dfrac{1}{2}$ y supongamos que estamos una situación estable y que con fin de buscar más presición queremos afinar la malla en la dirección $x$ digamos en la mitad $\\Delta x_1=\\dfrac{\\Delta x}{2}$ y busquemos de que manera debemos afinar la malla para el tiempo, es decir encontremos el $\\Delta t_1$ necesario:\n",
    "\n",
    "$$\\dfrac{\\Delta t_1}{\\Delta x_1^2}\\leq \\dfrac{1}{2} \\ \\ \\Longleftrightarrow \\ \\ \\dfrac{\\Delta t_1}{\\left(\\frac{\\Delta x}{2}\\right)}\\leq \\dfrac{1}{2}  \\ \\ \\Longleftrightarrow \\ \\ \\dfrac{4\\Delta t_1}{\\Delta x^2}\\leq \\dfrac{1}{2} \\ \\ \\  \\text{ Tomando } \\Delta t_1 =\\dfrac{\\Delta t}{4} \\\\ \\text{ Se sigue que }  \\dfrac{4\\Delta t_1}{\\Delta x^2}\\leq \\dfrac{1}{2} \\ \\ \\Longleftrightarrow \\ \\ \\dfrac{\\Delta t}{\\Delta x^2}\\leq \\dfrac{1}{2}$$\n",
    "\n",
    "Lo que se tiene, pues la elección inicial de la malla así lo pedía. Para finalizar, hagamos una observación importante como la condición de estabilidad debe cumplirse para ambas direcciones ($x,y$), de igual manera si queremos afinar la malla en la dirección $y$ a la mitad se debe reducir la malla en el tiempo 4 veces, note que esto nos dice que independiente si solo afinamos la malla a la mitad en una dirección espacial $x$ ó $y$ debemos reducir la malla temporal a la cuarta parte.\n",
    "\n",
    "Con respecto a los cuellos de botella, note que debido a la utilización de algoritmos vectorizados, solo hacemos un *loop-for* que se encarga de evolucionar, luego el tiempo de ejecución del algoritmo esta fuertemente marcado por el tiempo $T$ en el cual se desea obtener la solución y la cantidad $\\Delta t$ que define la cantidad de iteraciones a realizar."
   ]
  },
  {
   "cell_type": "markdown",
   "metadata": {},
   "source": [
    "### [100  puntos].- Bonus: Realizar una implementación utilizando el método de Crank-Nicolson para el problema y visualice el resultado final en $t=1000$. ¿Se ve igual que en el caso anterior? ¿Es más rápido? Comente.\n",
    "---"
   ]
  },
  {
   "cell_type": "markdown",
   "metadata": {},
   "source": [
    "## Desarrollo\n",
    "\n",
    "Veamos como queda la discretización utilizando un esquema de *Crank-Nicolson*, para $f=f(x,t)$ el esquema de *Crank-Nicolson* discretiza la derivada temporal como:\n",
    "\n",
    "$$\\dfrac{\\partial f}{\\partial t} \\approx \\dfrac{f(x,t+ \\Delta t)-f(x,t)}{\\Delta t}$$ \n",
    "\n",
    "Por otra parte, la segunda derivada espacial se expresa como:\n",
    "\n",
    "$$\\dfrac{\\partial^2 f}{\\partial x^2} \\approx \\dfrac{1}{2}\\dfrac{f(x + \\Delta x,t)-2f(x,t)+f(x-\\Delta x,t)}{\\Delta x^2} + \\dfrac{1}{2}\\dfrac{f(x + \\Delta x,t+\\Delta t)-2f(x,t+\\Delta t)+f(x-\\Delta x,t+\\Delta t)}{\\Delta x^2}$$ \n"
   ]
  },
  {
   "cell_type": "markdown",
   "metadata": {},
   "source": [
    "Así la discretización del *Laplaciano* se expresa como:\n",
    "\n",
    "$$\\Delta f \\approx \\dfrac{1}{2}\\dfrac{f(x + \\Delta x,y,t)-2f(x,y,t)+f(x-\\Delta x,y,t)}{\\Delta x^2} + \\dfrac{1}{2}\\dfrac{f(x + \\Delta x,y,t+\\Delta t)-2f(x,y,t+\\Delta t)+f(x-\\Delta x,y,t+\\Delta t)}{\\Delta x^2}  \\\\ +  \n",
    "\\dfrac{1}{2}\\dfrac{f(x,y + \\Delta y,t)-2f(x,y,t)+f(x,y-\\Delta y,t)}{\\Delta y^2} + \\dfrac{1}{2}\\dfrac{f(x,y + \\Delta y,t+\\Delta t)-2f(x,y,t+\\Delta t)+f(x,y-\\Delta y,t+\\Delta t)}{\\Delta y^2}$$\n",
    "\n",
    "Considere ahora $u=u(x,y,t)$ y $v=v(x,y,t)$ con el dominio $[0,900] \\times [0,300] \\times \\mathbb{R}_{+}$ y una discretización:\n",
    "\n",
    "$$x_{i}=x_{0}+i\\Delta x=i\\Delta x  \\ \\ i=0,1,\\cdots, N_x$$\n",
    "\n",
    "$$y_{j}=y_{0}+j\\Delta y=j\\Delta y  \\ \\ j=0,1,\\cdots, N_y $$\n",
    "\n",
    "$$t_{n}=t_{0}+n\\Delta t=n\\Delta t  \\ \\ n=0,1,\\cdots, N_t$$\n",
    "\n",
    "Haciendo mención de que se resuelve para un tiempo finito $T$, y donde:\n",
    "\n",
    "$$\\Delta x=\\frac{900}{N_x}$$\n",
    "\n",
    "$$\\Delta y=\\frac{300}{N_y}$$\n",
    "\n",
    "$$\\Delta t=\\frac{T}{N_t}$$\n",
    "\n",
    "Finalmente ocupando la notación $f_{i,j}^{n}=f(x_i,y_j,t_n)$ obtenemos para $u$ y $v$:\n",
    "\n",
    "$$\\dfrac{u_{i,j}^{n+1}-u_{i,j}^{n}}{\\Delta t}=\\dfrac{1}{2}\\dfrac{u_{i+1,j}^{n}-2u_{i,j}^{n}+u_{i-1,j}^{n}}{\\Delta x^2} + \\dfrac{1}{2}\\dfrac{u_{i+1,j}^{n+1}-2u_{i,j}^{n+1}+u_{i-1,j}^{n+1}}{\\Delta x^2}   +  \n",
    "\\dfrac{1}{2}\\dfrac{u_{i,j+1}^{n}-2u_{i,j}^{n}+u_{i,j-1}^{n}}{\\Delta y^2} + \\dfrac{1}{2}\\dfrac{u_{i,j+1}^{n+1}-2u_{i,j}^{n+1}+u_{i,j-1}^{n+1}}{\\Delta y^2} \n",
    "+ u_{i,j}^{n}(1-u_{i,j}^{n})+\\dfrac{u_{i,j}^{n}v_{i,j}^{n}}{u_{i,j}^{n}+h}$$\n",
    "\n",
    "$$\\dfrac{v_{i,j}^{n+1}-v_{i,j}^{n}}{\\Delta t}= \\dfrac{1}{2}\\dfrac{v_{i+1,j}^{n}-2v_{i,j}^{n}+v_{i-1,j}^{n}}{\\Delta x^2} + \\dfrac{1}{2}\\dfrac{v_{i+1,j}^{n+1}-2v_{i,j}^{n+1}+v_{i-1,j}^{n+1}}{\\Delta x^2}   +  \n",
    "\\dfrac{1}{2}\\dfrac{v_{i,j+1}^{n}-2v_{i,j}^{n}+v_{i,j-1}^{n}}{\\Delta y^2} + \\dfrac{1}{2}\\dfrac{v_{i,j+1}^{n+1}-2v_{i,j}^{n+1}+v_{i,j-1}^{n+1}}{\\Delta y^2} +k\\dfrac{u_{i,j}^{n}v_{i,j}^{n}}{u_{i,j}^{n}+h}-mv_{i,j}^{n}$$\n",
    "\n",
    "$\\forall i \\in \\{1,\\cdots,N_x-1\\}$, $\\forall j \\in \\{1,\\cdots,N_y-1\\}$ y $\\forall n \\in \\{0,\\cdots,N_t-1\\}$\n",
    "\n",
    "Y las condiciones de borde e iniciales se traducen en:\n",
    "\n",
    "$$u_{1,j}^{n}=u_{0,j}^{n}  \\text{ y }   u_{N_\n",
    "{x},j}^{n}=u_{N_{x}-1,j}^{n} \\ \\ \\ \\forall j,n \\in \\{0,\\cdots,N_y\\}\\times \\{0,\\cdots,N_t\\}$$\n",
    "\n",
    "\n",
    "$$u_{i,1}^{n}=u_{i,0}^{n} \\text{ y } u_{i,N_\n",
    "{y}}^{n}=u_{i,N_{y}-1}^{n} \\ \\ \\ \\forall i,n \\in \\{0,\\cdots,N_x\\}\\times \\{0,\\cdots,N_t\\}$$\n",
    "\n",
    "$$v_{1,j}^{n}=v_{0,j}^{n} \\text{ y } v_{N_\n",
    "{x},j}^{n}=v_{N_{x}-1,j}^{n} \\ \\ \\ \\forall j,n \\in \\{0,\\cdots,N_y\\}\\times \\{0,\\cdots,N_t\\}$$\n",
    "\n",
    "$$v_{i,1}^{n}=v_{i,0}^{n} \\text{ y } v_{i,N_\n",
    "{y}}^{n}=v_{i,N_{y}-1}^{n} \\ \\ \\ \\forall i,n \\in \\{0,\\cdots,N_x\\}\\times \\{0,\\cdots,N_t\\}$$\n",
    "\n",
    "$$u_{i,j}^{0}=u_*-2\\cdot 10^{-7}(i\\Delta x - 180)(i \\Delta x - 720) - 6\\cdot 10^{-7}(j\\Delta y - 90)(j\\Delta y - 210) \\ \\ \\ \\ \\forall i,j \\in \\{0,\\cdots,N_x\\}\\times \\{0,\\cdots,N_y\\}$$\n",
    "\n",
    "$$v_{i,j}^{0} = v_* - 3\\cdot 10^{-5}(i\\Delta x - 450) - 6\\cdot 10^{-5}(j\\Delta - 135)  \\ \\ \\ \\ \\forall i,j \\in \\{0,\\cdots,N_x\\}\\times \\{0,\\cdots,N_y\\}$$\n",
    "\n",
    "\n",
    "Ahora, en la discretización de las ecuaciones, tome $\\alpha=\\frac{\\Delta t}{\\Delta x^2}$, $\\beta=\\frac{\\Delta t}{\\Delta y^2}$ $\\sigma=2\\alpha +2\\beta$ y dejemos en la parte izquierda, las variables asociadas al tiempo $n+1$, obteniendo:\n"
   ]
  },
  {
   "cell_type": "markdown",
   "metadata": {},
   "source": [
    "$$-\\alpha u_{i+1,j}^{n+1}+(\\sigma+1)u_{i,j}^{n+1}-\\alpha u_{i-1,j}^{n+1} -\\beta u_{i,j+1}^{n+1} -\\beta u_{i,j-1}^{n+1}=\\alpha u_{i+1,j}^{n}+(\\Delta t - \\sigma)u_{i,j}^{n}+\\alpha u_{i-1,j}^{n}+\\beta u_{i,j+1}^{n}+\\beta u_{i,j-1}^{n}-\\Delta t (u_{i,j}^{n})^{2}+\\Delta t \\left(\\dfrac{u_{i,j}^{n}v_{i,j}^{n}}{u_{i,j}^{n}+h}\\right)$$\n",
    "\n",
    "$$-\\alpha v_{i+1,j}^{n+1}+(\\sigma+1)v_{i,j}^{n+1}-\\alpha v_{i-1,j}^{n+1} -\\beta v_{i,j+1}^{n+1} -\\beta v_{i,j-1}^{n+1}=\\alpha v_{i+1,j}^{n}+(-m - \\sigma)v_{i,j}^{n}+\\alpha v_{i-1,j}^{n}+\\beta v_{i,j+1}^{n}+\\beta v_{i,j-1}^{n}+\\Delta t \\left(\\dfrac{u_{i,j}^{n}v_{i,j}^{n}}{u_{i,j}^{n}+h}\\right)$$"
   ]
  },
  {
   "cell_type": "markdown",
   "metadata": {},
   "source": [
    "Ahora se presenta el código del esquema de *Crank-Nicolson*"
   ]
  },
  {
   "cell_type": "code",
   "execution_count": null,
   "metadata": {},
   "outputs": [],
   "source": [
    "def CN(u_n,v_n,dx,dy,dt,h,k,m,r,T): #Crank-Nicolson function\n",
    "    alpha=dt/dx**2\n",
    "    beta=dt/dy**2\n",
    "    sigma=2*(alpha+beta)\n",
    "    A= np.zeros([(Nx+1)*(Ny+1),(Nx+1)*(Ny+1)]) #Inicializate the matrix and vectors Note that the matrix will be the same\n",
    "    b_u=np.zeros((Nx+1)*(Ny+1))\n",
    "    b_v=np.zeros((Nx+1)*(Ny+1)) #for u and v\n",
    "    for i in range(Nx+1):\n",
    "        for j in range(Ny+1):\n",
    "            k=index(i,j,Ny+1)\n",
    "            if j==0:    #Matrix Linear System\n",
    "                A[k,k] =1\n",
    "                A[k,index(i,j+1,Ny+1)]=-1 #Part associate to Boundary Conditions\n",
    "            elif i==Nx: \n",
    "                A[k,k] =  1.\n",
    "                A[k,index(i-1,j,Ny+1)]=-1\n",
    "            elif j==Ny: \n",
    "                A[k,k] =  1.\n",
    "                A[k,index(i,j-1,Ny+1)]=-1   \n",
    "            elif i==0:  \n",
    "                A[k,k] =  1.\n",
    "                A[k,index(i+1,j,Ny+1)]=-1\n",
    "            else:\n",
    "                A[k, k] = sigma+1\n",
    "                A[k,index(i+1,j,Ny+1)] = -alpha  #Part associate to interior discretization\n",
    "                A[k,index(i-1,j,Ny+1)] = -alpha\n",
    "                A[k,index(i,j-1,Ny+1)] = -beta\n",
    "                A[k,index(i,j+1,Ny+1)] = -beta\n",
    "    for n in range(T):\n",
    "        aux_u=u_n\n",
    "        aux_v=v_n\n",
    "        for i in range(Nx+1):\n",
    "            for j in range(Ny+1):\n",
    "                k=index(i,j,Ny+1)\n",
    "                if j==0:   #Creation of vector of linear system \n",
    "                    b_u[k]=0 #Part of vector associate to boundary conditions\n",
    "                    b_v[k]=0\n",
    "                elif i==Nx: \n",
    "                    b_u[k]=0\n",
    "                    b_v[k]=0\n",
    "                elif j==Ny: \n",
    "                    b_u[k]=0\n",
    "                    b_v[k]=0\n",
    "                elif i==0:  \n",
    "                    b_u[k]=0\n",
    "                    b_v[k]=0\n",
    "                else:\n",
    "                    b_u[k]=alpha*aux_u[i+1,j]+(dt-sigma)*aux_u[i,j]+alpha*aux_u[i-1,j]+beta*aux_u[i,j+1]+beta*aux_u[i,j-1]-dt*(aux_u[i,j])**2+dt*((aux_u[i,j]*aux_v[i,j])/(aux_u[i,j]+h))   #Part associate to interior discretization.        \n",
    "                    b_v[k]=alpha*aux_v[i+1,j]+(-m-sigma)*aux_v[i,j]+alpha*aux_v[i-1,j]+beta*aux_v[i,j+1]+beta*aux_v[i,j-1]+dt*((aux_u[i,j]*aux_v[i,j])/(aux_u[i,j]+h))          \n",
    "\n",
    "        u=np.linalg.solve(A,b_u) #Solve the linear system \n",
    "        v=np.linalg.solve(A,b_v) \n",
    "        u_n=u.reshape(Nx+1,Ny+1)  #Convert the vector solution to array reshape.\n",
    "        v_n=v.reshape(Nx+1,Ny+1)\n",
    "    return  u_n,v_n"
   ]
  },
  {
   "cell_type": "markdown",
   "metadata": {},
   "source": [
    "Inicializamos los parametros."
   ]
  },
  {
   "cell_type": "code",
   "execution_count": null,
   "metadata": {},
   "outputs": [],
   "source": [
    "k = 2\n",
    "r = 0.3\n",
    "h = 0.4\n",
    "m = r*k\n",
    "Lx=900\n",
    "Ly=300\n",
    "T=1000 # We can change this parameter if we want obtain the solution at other.\n",
    "uf=r*h/(1-r) #Parameter of problem\n",
    "vf= (1-uf)*(h+uf) #Parameter of problem\n",
    "f1= lambda x,y:  uf - 2*10**(-7)*(x - 180)*(x - 720) - 6*10**(-7)*(y - 90)*(y - 210) #Functions of initial condition.\n",
    "f2= lambda x,y:  vf -3*10**(-5)*(x-450)-6*10**(-5)*(y-135)\n",
    "Nx=10 #We dont do a larger mesh beacuse we know that we have that solve a linear systeam in each iteration.\n",
    "Ny=10\n",
    "Nt=10\n",
    "x = np.linspace(0, Lx, Nx+1) # Mesh in x\n",
    "y = np.linspace(0, Ly, Ny+1) # Mesh in  y\n",
    "dx = x[1] - x[0]\n",
    "dy = y[1] - y[0]\n",
    "dt=0.11 \n",
    "\n",
    "Nt = int(round(T/float(dt)))\n",
    "t = np.linspace(0, T, Nt+1) #Mesh in t\n",
    "xv = x[:,newaxis] # For work of well manner in vectorized form\n",
    "yv = y[newaxis,:]\n",
    "u_n = np.zeros((Nx+1,Ny+1)) #un,vn will be our initial condition\n",
    "v_n = np.zeros((Nx+1,Ny+1))\n",
    "u_n[:,:] = f1(xv, yv) #actualizate the intial condition.\n",
    "v_n[:,:] = f2(xv, yv) \n"
   ]
  },
  {
   "cell_type": "markdown",
   "metadata": {},
   "source": [
    "Resolvemos y mostramos:"
   ]
  },
  {
   "cell_type": "code",
   "execution_count": null,
   "metadata": {},
   "outputs": [],
   "source": [
    "u_d,v_d=CN(u_n,v_n,dx,dy,dt,h,k,m,r,T)\n",
    "u_d,v_d"
   ]
  },
  {
   "cell_type": "markdown",
   "metadata": {},
   "source": [
    "Se prodece a gráficar:"
   ]
  },
  {
   "cell_type": "code",
   "execution_count": null,
   "metadata": {},
   "outputs": [],
   "source": [
    "X,Y=np.meshgrid(x,y)\n",
    "fig = plt.figure()\n",
    "fig.set_dpi(100)\n",
    "ax1 = fig.gca(projection='3d')\n",
    "ax1.clear()\n",
    "ax1.plot_surface(X,Y,u_d,rstride=1, cstride=1,cmap=plt.cm.jet,linewidth=0,antialiased=False)\n",
    "#surf = ax1.plot_surface(X, T, u, rstride=1, cstride=1, cmap=cm.coolwarm, linewidth=0, antialiased=False)\n",
    "ax1.set_zlim(0,np.max(u_d))\n",
    "ax1.set_xlim(0,900)\n",
    "ax1.set_ylim(0,300)\n",
    "plt.title('Concentración de Fitoplanctons transcurridos t=1000 seg')\n",
    "#fig.colorbar(surf, shrink=0.5, aspect=5)\n",
    "plt.show()\n",
    "fig = plt.figure()\n",
    "fig.set_dpi(100)\n",
    "ax2 = fig.gca(projection='3d')\n",
    "ax2.clear()\n",
    "ax2.plot_surface(X,Y,v_d,rstride=1, cstride=1,cmap=plt.cm.jet,linewidth=0,antialiased=False)\n",
    "ax2.set_zlim(0,np.max(v_d))\n",
    "ax2.set_xlim(0,900)\n",
    "ax2.set_ylim(0,300)\n",
    "plt.title('Concentración de Zooplanctons transcurridos t=1000 seg')\n",
    "plt.show()"
   ]
  },
  {
   "cell_type": "markdown",
   "metadata": {},
   "source": [
    "Note que este esquema nos muestra que en el tiempo $T=1000$ las poblaciones van a la extinción panorama totalmente distinto al calculado por el esquema explicito, esto puede explicarse por varios motivos, el principal puede ser la mala implementración de alguno de los métodos aplicados, otro quizás el hecho de que el esquema de *Crank-Nicolson* es más exacto por lo que la representación de los $T=1000 [seg]$ es más exacta, para finalizar puede estar ocurriendo que dado lo pequeño de los datos en cuestion se produzcan errores númericos. "
   ]
  },
  {
   "cell_type": "markdown",
   "metadata": {},
   "source": [
    "Hagamos otra comparación entre el esquema explicito estable y el esquema de *Crank-Nicolson* esta vez con $T=10$."
   ]
  },
  {
   "cell_type": "code",
   "execution_count": null,
   "metadata": {},
   "outputs": [],
   "source": [
    "k = 2\n",
    "r = 0.3\n",
    "h = 0.4\n",
    "m = r*k\n",
    "Lx=900\n",
    "Ly=300\n",
    "T=10 # We can change this parameter if we want obtain the solution at other.\n",
    "uf=r*h/(1-r) #Parameter of problem\n",
    "vf= (1-uf)*(h+uf) #Parameter of problem\n",
    "f1= lambda x,y:  uf - 2*10**(-7)*(x - 180)*(x - 720) - 6*10**(-7)*(y - 90)*(y - 210) #Functions of initial condition.\n",
    "f2= lambda x,y:  vf -3*10**(-5)*(x-450)-6*10**(-5)*(y-135)\n",
    "Nx=10  #We mesh the same in x and y for do more simple the plot\n",
    "Ny=10\n",
    "Nt=10\n",
    "x = np.linspace(0, Lx, Nx+1) # Mesh in x\n",
    "y = np.linspace(0, Ly, Ny+1) # Mesh in  y\n",
    "dx = x[1] - x[0]\n",
    "dy = y[1] - y[0]\n",
    "dt=0.11 #you can choosse for do stability or not\n",
    "\n",
    "Nt = int(round(T/float(dt)))\n",
    "t = np.linspace(0, T, Nt+1) #Mesh in t\n",
    "xv = x[:,newaxis] # For work of well manner in vectorized form\n",
    "yv = y[newaxis,:]\n",
    "u = np.zeros((Nx+1,Ny+1))\n",
    "v = np.zeros((Nx+1,Ny+1))\n",
    "u_n = np.zeros((Nx+1,Ny+1)) #un,vn will be our initial condition\n",
    "v_n = np.zeros((Nx+1,Ny+1))\n",
    "u_n[:,:] = f1(xv, yv) #actualizate the intial condition.\n",
    "v_n[:,:] = f2(xv, yv) "
   ]
  },
  {
   "cell_type": "markdown",
   "metadata": {},
   "source": [
    "## Esquema explicito"
   ]
  },
  {
   "cell_type": "code",
   "execution_count": null,
   "metadata": {},
   "outputs": [],
   "source": [
    "solu,solv=solver_pde_system(u,u_n,v,v_n,dx,dy,dt,h,k,m,r,T);\n",
    "X,Y=np.meshgrid(x,y)\n",
    "fig = plt.figure()\n",
    "fig.set_dpi(100)\n",
    "ax1 = fig.gca(projection='3d')\n",
    "ax1.clear()\n",
    "ax1.plot_surface(X,Y,solu,rstride=1, cstride=1,cmap=plt.cm.jet,linewidth=0,antialiased=False)\n",
    "#surf = ax1.plot_surface(X, T, u, rstride=1, cstride=1, cmap=cm.coolwarm, linewidth=0, antialiased=False)\n",
    "ax1.set_zlim(0,np.max(solu))\n",
    "ax1.set_xlim(0,900)\n",
    "ax1.set_ylim(0,300)\n",
    "plt.title('Explicit:Concentración de Fitoplanctons transcurridos t=10 seg')\n",
    "plt.show()\n",
    "fig = plt.figure()\n",
    "fig.set_dpi(100)\n",
    "ax2 = fig.gca(projection='3d')\n",
    "ax2.clear()\n",
    "ax2.plot_surface(X,Y,solv,rstride=1, cstride=1,cmap=plt.cm.jet,linewidth=0,antialiased=False)\n",
    "ax2.set_zlim(0,np.max(solv))\n",
    "ax2.set_xlim(0,900)\n",
    "ax2.set_ylim(0,300)\n",
    "plt.title('Explicit:Concentración de Zooplanctons transcurridos t=10 seg')\n",
    "plt.show()"
   ]
  },
  {
   "cell_type": "markdown",
   "metadata": {},
   "source": [
    "## Crank-Nicolson"
   ]
  },
  {
   "cell_type": "code",
   "execution_count": null,
   "metadata": {},
   "outputs": [],
   "source": [
    "solu,solv=CN(u_n,v_n,dx,dy,dt,h,k,m,r,T);\n",
    "X,Y=np.meshgrid(x,y)\n",
    "fig = plt.figure()\n",
    "fig.set_dpi(100)\n",
    "ax1 = fig.gca(projection='3d')\n",
    "ax1.clear()\n",
    "ax1.plot_surface(X,Y,solu,rstride=1, cstride=1,cmap=plt.cm.jet,linewidth=0,antialiased=False)\n",
    "#surf = ax1.plot_surface(X, T, u, rstride=1, cstride=1, cmap=cm.coolwarm, linewidth=0, antialiased=False)\n",
    "ax1.set_zlim(0,np.max(solu))\n",
    "ax1.set_xlim(0,900)\n",
    "ax1.set_ylim(0,300)\n",
    "plt.title('CRANK-NICOLSON:Concentración de Fitoplanctons transcurridos t=10 seg')\n",
    "plt.show()\n",
    "fig = plt.figure()\n",
    "fig.set_dpi(100)\n",
    "ax2 = fig.gca(projection='3d')\n",
    "ax2.clear()\n",
    "ax2.plot_surface(X,Y,solv,rstride=1, cstride=1,cmap=plt.cm.jet,linewidth=0,antialiased=False)\n",
    "ax2.set_zlim(0,np.max(solv))\n",
    "ax2.set_xlim(0,900)\n",
    "ax2.set_ylim(0,300)\n",
    "plt.title('CRANK-NICOLSON:Concentración de Zooplanctons transcurridos t=10 seg')\n",
    "plt.show()"
   ]
  },
  {
   "cell_type": "markdown",
   "metadata": {},
   "source": [
    "En estas simualciones observamos, que las estructuras (formas de ambos gráficas se parecen) en particular las asociadas a los *Fitoplanctons* pero sus ordenes de magnitud son claramente distintos, esto hace más fuerte el presentimiento de que el esquema de *Crank-Nicolson* está mal programado."
   ]
  },
  {
   "cell_type": "markdown",
   "metadata": {},
   "source": [
    "## Conlusiones.\n",
    "\n",
    "A lo largo de este problema, se ha logrado ver la facilidad de programar del esquema explicito y como su versión vectorizada ahorra una gran cantidad de tiempo de ejecución (sino se hicicese así habrían por lo menos 3-*for*).Y se vió de manera tacita como la condición de estabilidad impera en este esquema.\n",
    "\n",
    "En cuanto a *Crank-Nicolson* solo pudimos observar, la dificultad que presenta programarlo ( más aún la versión 2-D a trabajar en esta tarea) los principales problemas, surgieron en como adaptar las condiciones de borde, construir la función de *indexeo* para pasar de la matriz de valores de $u$ (para $v$ respectivamente) a un vector de valores y como construir la matriz y el vector del sistema lineal a resolver.\n",
    "\n",
    "Finalmente a modo transversal se logró aprender una de las tantas aplicaciones de la *Ecuaciones en Derivadas Parciales* en el mundo real, y como a través de métodos númericos se pueden obtener soluciones aproximadas de problemas complejos, en particular este problema prensentaba dificultada por las condiciones de borde tipo *Neumman* y por su caracteristica *No lineal* en los término de orden inferior."
   ]
  },
  {
   "cell_type": "markdown",
   "metadata": {},
   "source": [
    "# Instrucciones:\n",
    "\n",
    "* **Importante, Asegúrese de responder TODO lo que la pregunta pide.**\n",
    "* La estructura del laboratorio es la siguiente:\n",
    "     1. Título, nombre de estudiante, email y rol.\n",
    "     2. Introducción.\n",
    "     3. Desarrollo y análisis de resultados.\n",
    "     4. Conclusiones.\n",
    "     5. Referencias.\n",
    "* El laboratorio debe ser realizado en `Jupyter Notebook` (`Python3`).\n",
    "* Se evaluará la correcta utilización de librerias `NumPy`, `SciPy`, `SymPy`, `Matplotlib` y `ipywidgets`, así como la **correcta implementación de algoritmos vectorizados**.\n",
    "* El archivo de entrega debe denominarse Tarea3-rol.tar.gz y debe contener un directorio con todos los archivos necesarios para ejecutar el notebook, junto con un archivo README indicando explícitamente las librerías o módulos utilizados, nombre y rol del estudiante. El _notebook_ debe tener como nombre Tarea3-rol.ipynb. El no cumplimiento de esta regla significa calificación $0$.\n",
    "* El descuento por día de atraso será de $30$ puntos, con un máximo de 1 día de atraso. No se recibirán entregas después de este día.\n",
    "* Debe citar toda fuente de código externo. \n",
    "* El trabajo es personal, no se permite compartir código ni utilizar código de otros, aunque sí se sugiere discutir aspectos generales con sus compañeros.\n",
    "* En caso de sospecha de no cumplimiento de estas instrucciones, se solicitará al involucrado o la involucrada a aclarar la situación. Dependiendo de la justificación se decidirá su calificación, la cual podrá o no ser penalizada.\n",
    "* El no seguir estas instrucciones, implica descuentos en su nota obtenida."
   ]
  },
  {
   "cell_type": "markdown",
   "metadata": {},
   "source": [
    "## Referencias ##\n",
    "\n",
    "\n",
    "\n",
    "1.https://es.wikipedia.org/wiki/Plancton\n",
    "\n",
    "2.https://github.com/tclaudioe/Scientific-Computing/tree/master/SC2\n",
    "\n",
    "3.https://hplgit.github.io/fdm-book/doc/pub/book/pdf/fdm-book-4print-2up.pdf\n",
    "\n",
    "4.Recopilación_Ejercicios_CC2-v111 (moddle)\n",
    "\n",
    "5.Sauer, T., & Murrieta, J. E. M. (2013). Análisis numérico . Pearson educación."
   ]
  },
  {
   "cell_type": "code",
   "execution_count": null,
   "metadata": {},
   "outputs": [],
   "source": []
  }
 ],
 "metadata": {
  "@webio": {
   "lastCommId": "d7fce6ecad154c33b093dbc10f23c79f",
   "lastKernelId": "8b3ed040-72cd-482d-a11f-70eae5fe9521"
  },
  "kernelspec": {
   "display_name": "Python 3",
   "language": "python",
   "name": "python3"
  },
  "language_info": {
   "codemirror_mode": {
    "name": "ipython",
    "version": 3
   },
   "file_extension": ".py",
   "mimetype": "text/x-python",
   "name": "python",
   "nbconvert_exporter": "python",
   "pygments_lexer": "ipython3",
   "version": "3.6.4"
  }
 },
 "nbformat": 4,
 "nbformat_minor": 2
}
