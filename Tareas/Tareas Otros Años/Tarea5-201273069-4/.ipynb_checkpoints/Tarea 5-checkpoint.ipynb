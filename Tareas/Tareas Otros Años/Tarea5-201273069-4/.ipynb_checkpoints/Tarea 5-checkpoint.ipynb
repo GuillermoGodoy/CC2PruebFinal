{
 "cells": [
  {
   "cell_type": "markdown",
   "metadata": {},
   "source": [
    "<img src=\"escudo_utfsm.gif\" style=\"float:right;height:100px\">\n",
    "<img src=\"IsotipoDIisocolor.png\" style=\"float:left;height:100px\">\n",
    "<center>\n",
    "    <h1> ILI286 Computación Científica II</h1>\n",
    "    <h1> Tarea N°5: Partial Differential Equations (PDE)</h1>\n",
    "    <h3> [S]cientific [C]omputing [T]eam 2018</h3>\n",
    "</center>\n",
    "\n",
    "<p>\n",
    "<center>_Junio 2018_ </center>\n",
    "</p>"
   ]
  },
  {
   "cell_type": "markdown",
   "metadata": {},
   "source": [
    "## Introducción"
   ]
  },
  {
   "cell_type": "markdown",
   "metadata": {},
   "source": [
    "Una Ecuación Diferencial Parcial (_Partial Differential Equation_, PDE) es una ecuación diferencial en donde la incógnita es una función de dos o más variables $u(\\mathbf{x})$, donde $\\mathbf{x} = \\{x_1, x_2, ,\\ldots, x_n \\}$, y sus derivadas parciales.\n",
    "Esto nos permite modelar fenómenos que dependen de varias variables, por ejemplo, espaciales y temporales. La PDE a analizar en esta tarea es la **ecuación de Burger en dos dimensiones**, la cual se explicará a continuación. "
   ]
  },
  {
   "cell_type": "markdown",
   "metadata": {},
   "source": [
    "## Ecuación de Burger en dos dimensiones"
   ]
  },
  {
   "cell_type": "markdown",
   "metadata": {},
   "source": [
    "La ecuación de Burger describe diversos tipos de fenómenos, por ejemplo, para modelos de turbulencia [[1]](#ref) y modelos aproximados del flujo a través de una onda de choque que viaja en un fluido viscoso [[2]](#ref).\n",
    "En particular, veremos la ecuación de Burger en dos dimensiones, la cual viene dada como:\n",
    "\n",
    "\\begin{align*}\n",
    "\\frac{\\partial u(x,y,t)}{\\partial t} + u(x,y,t)\\frac{\\partial u(x,y,t)}{\\partial x} + v(x,y,t)\\frac{\\partial u(x,y,t)}{\\partial y} &= \\frac{1}{R}\\left(\\frac{\\partial^2 u(x,y,t)}{\\partial x^2} + \\frac{\\partial^2 u(x,y,t)}{\\partial y^2}\\right), \\\\\n",
    "\\frac{\\partial v(x,y,t)}{\\partial t} + u(x,y,t)\\frac{\\partial v(x,y,t)}{\\partial x} + v(x,y,t)\\frac{\\partial v(x,y,t)}{\\partial y} &= \\frac{1}{R}\\left(\\frac{\\partial^2 v(x,y,t)}{\\partial x^2} + \\frac{\\partial^2 v(x,y,t)}{\\partial y^2}\\right), \\\\\n",
    "\\end{align*}\n",
    "\n",
    "sujeta a condiciones iniciales:\n",
    "\\begin{align*}\n",
    "u(x,y,0) &= \\phi_1(x,y), \\quad \\quad (x,y) \\in \\Omega, \\\\\n",
    "v(x,y,0) &= \\phi_2(x,y), \\quad \\quad (x,y) \\in \\Omega,\n",
    "\\end{align*}\n",
    "\n",
    "y condiciones de borde:\n",
    "\\begin{align*}\n",
    "u(x,y,t) &= \\Theta(x,y), \\quad \\quad (x,y) \\in \\partial \\Omega, t>0, \\\\\n",
    "v(x,y,t) &= \\varphi(x,y), \\quad \\quad (x,y) \\in \\partial \\Omega, t>0,\n",
    "\\end{align*}"
   ]
  },
  {
   "cell_type": "markdown",
   "metadata": {},
   "source": [
    "donde $\\Omega = \\{ (x,y): a \\leq x \\leq b, c \\leq y \\leq d\\}$, $\\partial \\Omega$ es el borde del dominio, $u(x,y,t)$ y $v(x,y,t)$ son las funciones incógnitas que deben ser encontradas resolviendo el sistema de ecuaciones diferenciales parciales mostrado anteriormente, $\\phi_1, \\phi_2, \\Theta, \\varphi$ son funciones conocidas y $R$ es el número de Reynolds. "
   ]
  },
  {
   "cell_type": "markdown",
   "metadata": {},
   "source": [
    "## Pregunta 1 [15 pts]"
   ]
  },
  {
   "cell_type": "markdown",
   "metadata": {},
   "source": [
    "Discretize la ecuación de Burger en dos dimensiones utilizando un esquema explícito y construya un algoritmo que resuelva la ecuación para un tiempo $T$ en un dominio $\\Omega = \\{ (x,y): a \\leq x \\leq b, c \\leq y \\leq d\\}$. La firma de su función debe ser la siguiente:\n",
    "\n",
    "\n",
    "```python\n",
    "'''\n",
    "Input: \n",
    "Re - (float) Reynolds number.\n",
    "a - (float) Lower bound for x.\n",
    "b - (float) Upper bound for x.\n",
    "c - (float) Lower bound for y.\n",
    "d - (float) Upper bound for y.\n",
    "T - (float) Time of simulation.\n",
    "dx - (float) Distance between points in the x mesh.\n",
    "dy - (float) Distance between points in the y mesh.\n",
    "dt - (float) Time step.\n",
    "u_t_0 - (function) Initial condition for u(x,y,t) at t = 0.\n",
    "v_t_0 - (function) Initial condition for v(x,y,t) at t = 0.\n",
    "u_x_a - (function) Boundary condition for u(x,y,t) at x = a.\n",
    "u_x_b - (function) Boundary condition for u(x,y,t) at x = b.\n",
    "u_y_c - (function) Boundary condition for u(x,y,t) at y = c.\n",
    "u_y_d - (function) Boundary condition for u(x,y,t) at y = d.\n",
    "v_x_a - (function) Boundary condition for v(x,y,t) at x = a.\n",
    "v_x_b - (function) Boundary condition for v(x,y,t) at x = b.\n",
    "v_y_c - (function) Boundary condition for v(x,y,t) at y = c.\n",
    "v_y_d - (function) Boundary condition for v(x,y,t) at y = d.\n",
    "\n",
    "\n",
    "Output:\n",
    "X - (2D-array) X Mesh for plot the equation.\n",
    "Y - (2D-array) Y Mesh for plot the equation.\n",
    "u - (3D-array) Numerical solution for u.\n",
    "v - (3D-array) Numerical solution for v\n",
    "'''\n",
    "\n",
    "def solve_burger_equation_explicit(Re, a, b, c, d, T, dx, dy, dt, u_t_0, v_t_0, u_x_a, u_x_b, u_y_c, u_y_d, v_x_a, v_x_b, v_y_c, v_y_d):\n",
    "    ...\n",
    "    return X,Y,u,v\n",
    "```\n",
    "Muestre todos los pasos para llegar a una expresión que resuelva la PDE."
   ]
  },
  {
   "cell_type": "markdown",
   "metadata": {},
   "source": [
    "Derivadas parciales para $u(x,y,t) = u$\n",
    "$$\\frac{\\partial u}{\\partial x} = \\frac{u_{i+1,j,k}-u_{i-1,j,k}}{2 \\Delta x } $$\n",
    "$$\\frac{\\partial u}{\\partial y} = \\frac{u_{i,j+1,k}-u_{i,j-1,k}}{2 \\Delta y } $$\n",
    "$$\\frac{\\partial u}{\\partial t} = \\frac{u_{i,j,k+1}-u_{i,j,k}}{\\Delta t } $$\n",
    "\n",
    "$$\\frac{\\partial^2 u }{\\partial x^2} = \\frac{u_{i+1,j,k}-2u_{i,j,k}+u_{i-1,j,k}}{\\Delta x^2 }$$\n",
    "$$\\frac{\\partial^2 u }{\\partial y^2} = \\frac{u_{i,j+1,k}-2u_{i,j,k}+u_{i,j-1,k}}{\\Delta y^2 }$$ \n",
    "\n",
    "Derivadas parciales para $v(x,y,t) = v$\n",
    "$$\\frac{\\partial v}{\\partial x} = \\frac{v_{i+1,j,k}-v_{i-1,j,k}}{2 \\Delta x } $$\n",
    "$$\\frac{\\partial v}{\\partial y} = \\frac{v_{i,j+1,k}-v_{i,j-1,k}}{2 \\Delta y } $$\n",
    "$$\\frac{\\partial v}{\\partial t} = \\frac{v_{i,j,k+1}-v_{i,j,k}}{\\Delta t } $$\n",
    "\n",
    "$$\\frac{\\partial^2 v }{\\partial x^2} = \\frac{v_{i+1,j,k}-2v_{i,j,k}+v_{i-1,j,k}}{\\Delta x^2 }$$\n",
    "$$\\frac{\\partial^2 v }{\\partial y^2} = \\frac{v_{i,j+1,k}-2v_{i,j,k}+v_{i,j-1,k}}{\\Delta y^2 }$$ \n",
    "\n",
    "Discretizando y despejando $k+1$:\n",
    "$$u_{i,j,k+1} = u_{i,j,k} + \n",
    "                \\Delta t \\left(  \\frac{1}{R} \\left(\n",
    "                \\frac{u_{i+1,j,k}-2u_{i,j,k}+u_{i-1,j,k}}{\\Delta x^2 } +\n",
    "                \\frac{u_{i,j+1,k}-2u_{i,j,k}+u_{i,j-1,k}}{\\Delta y^2 }\n",
    "                \\right) -\n",
    "                \\frac{u_{i+1,j,k}-u_{i-1,j,k}}{2 \\Delta x } u_{i,j,k} -\n",
    "                \\frac{u_{i,j+1,k}-u_{i,j-1,k}}{2 \\Delta y } v_{i,j,k}\n",
    "                \\right)$$\n",
    "$$v_{i,j,k+1} = v_{i,j,k} + \n",
    "                \\Delta t \\left(  \\frac{1}{R} \\left(\n",
    "                \\frac{v_{i+1,j,k}-2v_{i,j,k}+v_{i-1,j,k}}{\\Delta x^2 } +\n",
    "                \\frac{v_{i,j+1,k}-2v_{i,j,k}+v_{i,j-1,k}}{\\Delta y^2 }\n",
    "                \\right) -\n",
    "                \\frac{v_{i+1,j,k}-v_{i-1,j,k}}{2 \\Delta x } u_{i,j,k}-\n",
    "                \\frac{v_{i,j+1,k}-v_{i,j-1,k}}{2 \\Delta y } v_{i,j,k}\n",
    "                \\right)$$              \n"
   ]
  },
  {
   "cell_type": "code",
   "execution_count": 1,
   "metadata": {},
   "outputs": [],
   "source": [
    "import numpy as np\n",
    "from numpy.linalg import solve\n",
    "from mpl_toolkits.mplot3d import axes3d\n",
    "%matplotlib inline\n",
    "from matplotlib import pyplot as plt\n",
    "from matplotlib import cm\n",
    "from ipywidgets import interact, interactive, fixed , interact_manual\n",
    "import ipywidgets as widgets\n",
    "from matplotlib import colors\n",
    "import time\n",
    "import scipy.optimize as opt\n",
    "\n",
    "import problemFunctions as p\n",
    "\n",
    "def solve_burger_equation_explicit(Re, a, b, c, d, T, dx, dy, dt, \n",
    "                                   u_t_0, v_t_0, \n",
    "                                   u_x_a, u_x_b, u_y_c, u_y_d,\n",
    "                                   v_x_a, v_x_b, v_y_c, v_y_d):\n",
    "    nx = int((b-a)/dx)\n",
    "    ny = int((d-c)/dy)\n",
    "    nt = int(T/dt)\n",
    "    xarray = np.linspace(a,b,nx+1)\n",
    "    yarray = np.linspace(c,d,ny+1)  \n",
    "    X, Y = np.meshgrid(xarray,yarray)\n",
    "    u = np.zeros((nx+1,ny+1,nt))\n",
    "    v = np.zeros((nx+1,ny+1,nt))  \n",
    "    #t_0 \n",
    "    u[:,:,0] = u_t_0(Y,X)\n",
    "    v[:,:,0] = v_t_0(Y,X)\n",
    "    for i in range(0, nt - 1):\n",
    "        u[0, :, i + 1] = u_x_a(yarray, (i+1) * dt)\n",
    "        u[-1, :, i + 1] = u_x_b(yarray, (i+1) * dt)\n",
    "        u[:, 0, i + 1] = u_y_c(xarray, (i+1) * dt)\n",
    "        u[:, -1, i + 1] = u_y_d(xarray, (i+1) * dt)\n",
    "\n",
    "        v[0:, :, i + 1] = v_x_a(yarray, (i+1) * dt)\n",
    "        v[-1:, :, i + 1] = v_x_b(yarray, (i+1) * dt)\n",
    "        v[:, 0, i + 1] = v_y_c(xarray, (i+1) * dt)\n",
    "        v[:, -1, i + 1] = v_y_d(xarray, (i+1) * dt)\n",
    "        ##falta trabajar u y v en [1:-1,1:-1,i]\n",
    "        ux = (u[2:, 1:-1, i] - u[:-2, 1:-1, i]) / (2 * dx)       \n",
    "        uy = (u[1:-1, 2:, i] - u[1:-1, :-2, i]) / (2 * dy)\n",
    "        uxx = (u[2:, 1:-1, i] - 2 * u[1:-1, 1:-1, i] + u[:-2, 1:-1, i]) / (dx ** 2)\n",
    "        uyy = (u[1:-1, 2:, i] - 2 * u[1:-1, 1:-1, i] + u[1:-1, :-2, i]) / (dy ** 2)\n",
    "        \n",
    "        vx = (v[2:, 1:-1, i]-v[:-2, 1:-1, i]) / (2 * dx)\n",
    "        vxx = (v[2:, 1:-1, i] - 2 * v[1:-1, 1:-1, i] + v[:-2, 1:-1, i]) / (dx ** 2)\n",
    "        vy = (v[1:-1, 2:, i] - v[1:-1, :-2, i]) / (2 * dy)\n",
    "        vyy = (v[1:-1, 2:, i] - 2 * v[1:-1, 1:-1, i] + v[1:-1, :-2, i]) / (dy ** 2)\n",
    "        \n",
    "        u[1:-1, 1:-1, i + 1] = u[1:-1, 1:-1, i] + dt * (((uxx + uyy) / (Re)) - ux * u[1:-1, 1:-1, i] - v[1:-1, 1:-1, i] * uy)\n",
    "        v[1:-1, 1:-1, i + 1] = v[1:-1, 1:-1, i] + dt * (((vxx + vyy) / (Re)) - vx * u[1:-1, 1:-1, i] - v[1:-1, 1:-1, i] * vy) \n",
    "\n",
    "    return X,Y,u,v\n"
   ]
  },
  {
   "cell_type": "markdown",
   "metadata": {},
   "source": [
    "## Pregunta 2 [35 pts]"
   ]
  },
  {
   "cell_type": "markdown",
   "metadata": {},
   "source": [
    "Proponga un modelo implícito para resolver la ecuación de Burger en dos dimensiones y construya un algoritmo que resuelva la ecuación para $t \\in [0, T]$ y un dominio $\\Omega = \\{ (x,y): a \\leq x \\leq b, c \\leq y \\leq d\\}$. La firma de su función debe ser la siguiente:\n",
    "\n",
    "```python\n",
    "'''\n",
    "Input: \n",
    "Re - (float) Reynolds number.\n",
    "a - (float) Lower bound for x.\n",
    "b - (float) Upper bound for x.\n",
    "c - (float) Lower bound for y.\n",
    "d - (float) Upper bound for y.\n",
    "T - (float) Time of simulation.\n",
    "dx - (float) Distance between points in the x mesh.\n",
    "dy - (float) Distance between points in the y mesh.\n",
    "dt - (float) Time step.\n",
    "u_t_0 - (function) Initial condition for u(x,y,t) at t = 0\n",
    "v_t_0 - (function) Initial condition for v(x,y,t) at t = 0\n",
    "u_x_a - (function) Boundary condition for u(x,y,t) at x = x_a\n",
    "u_x_b - (function) Boundary condition for u(x,y,t) at x = x_b\n",
    "u_y_c - (function) Boundary condition for u(x,y,t) at y = y_c\n",
    "u_y_d - (function) Boundary condition for u(x,y,t) at y = y_d\n",
    "v_x_a - (function) Boundary condition for v(x,y,t) at x = x_a\n",
    "v_x_b - (function) Boundary condition for v(x,y,t) at x = x_b\n",
    "v_y_c - (function) Boundary condition for v(x,y,t) at y = y_c\n",
    "v_y_d - (function) Boundary condition for v(x,y,t) at y = y_d\n",
    "\n",
    "\n",
    "Output:\n",
    "X - (2D-array) X Mesh for plot the equation.\n",
    "Y - (2D-array) Y Mesh for plot the equation.\n",
    "u - (3D-array) u Numerical solution.\n",
    "v - (3D-array) v Numerical solution\n",
    "'''\n",
    "\n",
    "def solve_burger_equation_implicit(Re, a, b, c, d, T, dx, dy, dt, u_t_0, v_t_0, u_x_a, u_x_b, u_y_c, u_y_d, v_x_a, v_x_b, v_y_c, v_y_d):\n",
    "    ...\n",
    "    return X,Y,u,v\n",
    "```\n",
    "Muestre todos los pasos para llegar a una expresión que resuelva la PDE."
   ]
  },
  {
   "cell_type": "markdown",
   "metadata": {},
   "source": [
    "Derivadas parciales para $u(x,y,t) = u$\n",
    "$$\\frac{\\partial u}{\\partial x} = \\frac{u_{i+1,j,k}-u_{i-1,j,k}}{2 \\Delta x } $$\n",
    "$$\\frac{\\partial u}{\\partial y} = \\frac{u_{i,j+1,k}-u_{i,j-1,k}}{2 \\Delta y } $$\n",
    "$$\\frac{\\partial u}{\\partial t} = \\frac{u_{i,j,k}-u_{i,j,k-1}}{\\Delta t } $$\n",
    "\n",
    "$$\\frac{\\partial^2 u }{\\partial x^2} = \\frac{u_{i+1,j,k}-2u_{i,j,k}+u_{i-1,j,k}}{\\Delta x^2 }$$\n",
    "$$\\frac{\\partial^2 u }{\\partial y^2} = \\frac{u_{i,j+1,k}-2u_{i,j,k}+u_{i,j-1,k}}{\\Delta y^2 }$$ \n",
    "\n",
    "Derivadas parciales para $v(x,y,t) = v$\n",
    "$$\\frac{\\partial v}{\\partial x} = \\frac{v_{i+1,j,k}-v_{i-1,j,k}}{2 \\Delta x } $$\n",
    "$$\\frac{\\partial v}{\\partial y} = \\frac{v_{i,j+1,k}-v_{i,j-1,k}}{2 \\Delta y } $$\n",
    "$$\\frac{\\partial v}{\\partial t} = \\frac{v_{i,j,k}-v_{i,j,k-1}}{\\Delta t } $$\n",
    "\n",
    "$$\\frac{\\partial^2 v }{\\partial x^2} = \\frac{v_{i+1,j,k}-2v_{i,j,k}+v_{i-1,j,k}}{\\Delta x^2 }$$\n",
    "$$\\frac{\\partial^2 v }{\\partial y^2} = \\frac{v_{i,j+1,k}-2v_{i,j,k}+v_{i,j-1,k}}{\\Delta y^2 }$$ \n",
    "\n",
    "Discretizando \n",
    "$$\\frac{u_{i,j,k}-u_{i,j,k-1} }{\\Delta t} + \n",
    "  \\frac{u_{i+1,j,k}-u_{i-1,j,k}}{2 \\Delta x } u_{i,j,k} +\n",
    "  \\frac{u_{i,j+1,k}-u_{i,j-1,k}}{2 \\Delta y } v_{i,j,k} -\n",
    "  \\frac{1}{R} \n",
    "  \\left(\n",
    "  \\frac{u_{i+1,j,k}-2u_{i,j,k}+u_{i-1,j,k}}{\\Delta x^2 } +\n",
    "  \\frac{u_{i,j+1,k}-2u_{i,j,k}+u_{i,j-1,k}}{\\Delta y^2 }\n",
    "  \\right) = 0 $$\n",
    "\n",
    "$$ \\frac{v_{i,j,k}-v_{i,j,k-1} }{\\Delta t} + \n",
    "\\frac{v_{i+1,j,k}-v_{i-1,j,k}}{2 \\Delta x } u_{i,j,k} +\n",
    "\\frac{v_{i,j+1,k}-v_{i,j-1,k}}{2 \\Delta y } v_{i,j,k}\n",
    "\\frac{1}{R} \n",
    "\\left(\n",
    "\\frac{v_{i+1,j,k}-2v_{i,j,k}+v_{i-1,j,k}}{\\Delta x^2 } +\n",
    "\\frac{v_{i,j+1,k}-2v_{i,j,k}+v_{i,j-1,k}}{\\Delta y^2 } -\n",
    "\\right) = 0 $$\n",
    "Cambiando la notacion para iniciar en $k = 0$\n",
    "$$\\frac{u_{i,j,k+1}-u_{i,j,k} }{\\Delta t} + \n",
    "  \\frac{u_{i+1,j,k+1}-u_{i-1,j,k+1}}{2 \\Delta x } u_{i,j,k+1} +\n",
    "  \\frac{u_{i,j+1,k+1}-u_{i,j-1,k+1}}{2 \\Delta y } v_{i,j,k+1} -\n",
    "  \\frac{1}{R} \n",
    "  \\left(\n",
    "  \\frac{u_{i+1,j,k+1}-2u_{i,j,k+1}+u_{i-1,j,k+1}}{\\Delta x^2 } +\n",
    "  \\frac{u_{i,j+1,k+1}-2u_{i,j,k+1}+u_{i,j-1,k+1}}{\\Delta y^2 }\n",
    "  \\right) = 0 $$\n",
    "\n",
    "$$ \\frac{v_{i,j,k+1}-v_{i,j,k} }{\\Delta t} + \n",
    "\\frac{v_{i+1,j,k+1}-v_{i-1,j,k+1}}{2 \\Delta x } u_{i,j,k+1} +\n",
    "\\frac{v_{i,j+1,k+1}-v_{i,j-1,k+1}}{2 \\Delta y } v_{i,j,k+1} -\n",
    "\\frac{1}{R} \n",
    "\\left(\n",
    "\\frac{v_{i+1,j,k+1}-2v_{i,j,k+1}+v_{i-1,j,k+1}}{\\Delta x^2 } +\n",
    "\\frac{v_{i,j+1,k+1}-2v_{i,j,k+1}+v_{i,j-1,k+1}}{\\Delta y^2 }\n",
    "\\right) = 0 $$"
   ]
  },
  {
   "cell_type": "code",
   "execution_count": 2,
   "metadata": {},
   "outputs": [],
   "source": [
    "import numpy as np\n",
    "import scipy.optimize as op\n",
    "import copy\n",
    "def toVector(u,v):\n",
    "    return np.concatenate((np.array(u).flatten(),np.array(v).flatten()))\n",
    "def toMatrixs(vector):\n",
    "    u = np.split(np.array(vector),2)[0]\n",
    "    v = np.split(np.array(vector),2)[1]\n",
    "    n = int(np.sqrt(len(u)))\n",
    "    a = np.reshape(u, (n,n) )\n",
    "    b = np.reshape(v, (n,n) )\n",
    "    return a,b\n",
    "\n",
    "def solve_burger_equation_implicit(Re, a, b, c, d, T, dx, dy, dt, \n",
    "                                   u_t_0, v_t_0, \n",
    "                                   u_x_a, u_x_b, u_y_c, u_y_d,\n",
    "                                   v_x_a, v_x_b, v_y_c, v_y_d):\n",
    "    nx = int((b-a)/dx)\n",
    "    ny = int((d-c)/dy)\n",
    "    nt = int(T/dt)\n",
    "    xarray = np.linspace(a,b,nx+1)\n",
    "    yarray = np.linspace(c,d,ny+1)  \n",
    "    X, Y = np.meshgrid(xarray,yarray)\n",
    "    u = np.zeros((nx+1,ny+1,nt))\n",
    "    v = np.zeros((nx+1,ny+1,nt))  \n",
    "    #t_0 \n",
    "    u[:,:,0] = u_t_0(Y,X)\n",
    "    v[:,:,0] = v_t_0(Y,X)\n",
    "    #borde\n",
    "    initial = np.ones((nx+1)*(ny+1)*2)\n",
    "    for i in range(1,nt):\n",
    "        u[0, :, i] = u_x_a(yarray, (i) * dt)\n",
    "        u[-1, :, i] = u_x_b(yarray, (i) * dt)\n",
    "        u[:, 0, i] = u_y_c(xarray, (i) * dt)\n",
    "        u[:, -1, i] = u_y_d(xarray, (i) * dt)\n",
    "\n",
    "        v[0:, :, i] = v_x_a(yarray, (i) * dt)\n",
    "        v[-1:, :, i] = v_x_b(yarray, (i) * dt)\n",
    "        v[:, 0, i] = v_y_c(xarray, (i) * dt)\n",
    "        v[:, -1, i] = v_y_d(xarray, (i) * dt) \n",
    "        wk = toVector(u[:,:,i-1],v[:,:,i-1])\n",
    "        def F(w_k1):\n",
    "            p, q = toMatrixs(w_k1)\n",
    "            ux = (p[2:, 1:-1] - p[:-2, 1:-1]) / (2 * dx)\n",
    "            uy = (p[1:-1, 2:] - p[1:-1, :-2]) / (2 * dy)\n",
    "            uxx = (p[2:, 1:-1] - 2 * p[1:-1, 1:-1] + p[:-2, 1:-1]) / (dx ** 2)\n",
    "            uyy = (p[1:-1, 2:] - 2 * p[1:-1, 1:-1] + p[1:-1, :-2]) / (dy ** 2)\n",
    "            vx = (q[2:, 1:-1] - q[:-2, 1:-1]) / (2 * dx)\n",
    "            vxx = (q[2:, 1:-1] - 2 * q[1:-1, 1:-1] + q[:-2, 1:-1]) / (dx ** 2)\n",
    "            vy = (q[1:-1, 2:] - q[1:-1, :-2]) / (2 * dy)\n",
    "            vyy = (q[1:-1, 2:] - 2 * q[1:-1, 1:-1] + q[1:-1, :-2]) / (dy ** 2)\n",
    "            a = copy.deepcopy(p)\n",
    "            b = copy.deepcopy(q)\n",
    "            a[1:-1, 1:-1] = p[1:-1, 1:-1] - dt * (((uxx + uyy) / (Re)) - ux * p[1:-1, 1:-1] - q[1:-1, 1:-1] * uy)\n",
    "            b[1:-1, 1:-1] = q[1:-1, 1:-1] - dt * (((vxx + vyy) / (Re)) - vx * p[1:-1, 1:-1] - q[1:-1, 1:-1] * vy)\n",
    "            return toVector(a, b)-wk        \n",
    "        sol = opt.root(F, initial, tol=10**-9)\n",
    "        su,sv = toMatrixs(sol.x)\n",
    "        u[:,:,i]=su\n",
    "        v[:,:,i]=sv\n",
    "    return X,Y,u,v   "
   ]
  },
  {
   "cell_type": "markdown",
   "metadata": {},
   "source": [
    "## Pregunta 3 [40 pts]"
   ]
  },
  {
   "cell_type": "markdown",
   "metadata": {},
   "source": [
    "Ocupe los algoritmos diseñados en las preguntas anteriores para resolver la ecuación de Burger en dos dimensiones con las siguientes condiciones iniciales y de borde en un dominio $\\Omega = \\{ (x,y): 0 \\leq x \\leq 1, 0 \\leq y \\leq 1\\}$:\n",
    "\n",
    "**Primer problema**\n",
    "\\begin{equation*}\n",
    "  \\left.\n",
    "    \\begin{aligned}\n",
    "&u(x,y,0) = \\frac{3}{4} - \\frac{1}{4 \\left(1 + \\large e^{\\frac{(-4x + 4y)R}{32}} \\right) } \\quad ,\n",
    "&v(x,y,0) = \\frac{3}{4} + \\frac{1}{4 \\left(1 + \\large e^{\\frac{(-4x + 4y)R}{32}} \\right) } \\\\\n",
    "    \\end{aligned}\n",
    "  \\right\\}\n",
    " \\quad\\text{$(x,y) \\in \\Omega$}\n",
    "\\end{equation*}\n",
    "\n",
    "\\begin{equation*}\n",
    "  \\left.\n",
    "    \\begin{aligned}\n",
    "&u(x,0,t) = \\frac{3}{4} - \\frac{1}{4 \\left(1 + \\large e^{\\frac{(-(4x + t))R}{32}} \\right) } \\quad ,\n",
    "&u(x,1,t) = \\frac{3}{4} - \\frac{1}{4 \\left(1 + \\large e^{\\frac{(4 - 4x - t)R}{32}} \\right) } \\\\\n",
    "&v(x,0,t) = \\frac{3}{4} + \\frac{1}{4 \\left(1 + \\large e^{\\frac{(-(4x + t))R}{32}} \\right) } \\quad ,\n",
    "&v(x,1,t) = \\frac{3}{4} + \\frac{1}{4 \\left(1 + \\large e^{\\frac{(4 - 4x - t)R}{32}} \\right) } \\\\\n",
    "    \\end{aligned}\n",
    "  \\right\\}\n",
    " \\quad\\text{$t>0, x \\in \\Omega$}\n",
    "\\end{equation*}\n",
    "\n",
    "\\begin{equation*}\n",
    "  \\left.\n",
    "    \\begin{aligned}\n",
    "&u(0,y,t) = \\frac{3}{4} - \\frac{1}{4 \\left(1 + \\large e^{\\frac{(4y - t)R}{32}} \\right) }\\quad , \n",
    "&u(1,y,t) = \\frac{3}{4} - \\frac{1}{4 \\left(1 + \\large e^{\\frac{(4y - 4 - t)R}{32}} \\right) }  \\\\\n",
    "&v(0,y,t) = \\frac{3}{4} + \\frac{1}{4 \\left(1 + \\large e^{\\frac{(4y - t)R}{32}} \\right) }\\quad ,  \n",
    "&v(1,y,t) = \\frac{3}{4} + \\frac{1}{4 \\left(1 + \\large e^{\\frac{(4y - 4 - t)R}{32}} \\right) }\\\\\n",
    "    \\end{aligned}\n",
    "  \\right\\}\n",
    " \\quad\\text{$t>0, y \\in \\Omega$}\n",
    "\\end{equation*}\n",
    "\n",
    "Solución:\n",
    "\\begin{equation*}\n",
    "  \\left.\n",
    "    \\begin{aligned}\n",
    "&u(x,y,t) = \\frac{3}{4} - \\frac{1}{4 \\left(1 + \\large e^{\\frac{(-4x + 4y - t)R}{32}} \\right) } \\quad ,\n",
    "&v(x,y,t) = \\frac{3}{4} + \\frac{1}{4 \\left(1 + \\large e^{\\frac{(-4x + 4y - t)R}{32}} \\right) } \\\\\n",
    "    \\end{aligned}\n",
    "  \\right\\}\n",
    " \\quad\\text{$(x,y) \\in \\Omega, t \\geq 0$}\n",
    "\\end{equation*}"
   ]
  },
  {
   "cell_type": "markdown",
   "metadata": {},
   "source": [
    "**Segundo problema**:\n",
    "\\begin{equation*}\n",
    "  \\left.\n",
    "    \\begin{aligned}\n",
    "&u(x,y,0) = \\frac{-4\\pi \\cos{(2\\pi x)} \\sin{(\\pi y)}}{R\\left( 2 + \\sin{(2\\pi x)} \\sin{(\\pi y)}\\right)} \\quad ,\n",
    "&v(x,y,0) = \\frac{-2\\pi \\sin{(2\\pi x)} \\cos{(\\pi y)}}{R\\left( 2 + \\sin{(2\\pi x)} \\sin{(\\pi y)}\\right)} \\\\\n",
    "    \\end{aligned}\n",
    "  \\right\\}\n",
    " \\quad\\text{$(x,y) \\in \\Omega$}\n",
    "\\end{equation*}\n",
    "\n",
    "\\begin{equation*}\n",
    "  \\left.\n",
    "    \\begin{aligned}\n",
    "&u(x,0,t) = 0 \\quad ,\n",
    "&u(x,1,t) = 0 \\\\\n",
    "&v(x,0,t) = \\frac{-\\pi e^{\\frac{-5\\pi^2 t}{R}} \\sin{(2\\pi x)}}{R} \\quad ,\n",
    "&v(x,1,t) = \\frac{\\pi e^{\\frac{-5\\pi^2 t}{R}} \\sin{(2\\pi x)}}{R} \\\\\n",
    "    \\end{aligned}\n",
    "  \\right\\}\n",
    " \\quad\\text{$t>0, x \\in \\Omega$}\n",
    "\\end{equation*}\n",
    "\n",
    "\\begin{equation*}\n",
    "  \\left.\n",
    "    \\begin{aligned}\n",
    "&u(0,y,t) = \\frac{-2\\pi e^{\\frac{-5\\pi^2 t}{R}} \\sin{(\\pi y)}}{R}\\quad , \n",
    "&u(1,y,t) = \\frac{-2\\pi e^{\\frac{-5\\pi^2 t}{R}} \\sin{(\\pi y)}}{R} \\\\\n",
    "&v(0,y,t) = 0 \\quad ,  \n",
    "&v(1,y,t) = 0 \\\\\n",
    "    \\end{aligned}\n",
    "  \\right\\}\n",
    " \\quad\\text{$t>0, y \\in \\Omega$}\n",
    "\\end{equation*}\n",
    "\n",
    "Solución:\n",
    "\\begin{equation*}\n",
    "  \\left.\n",
    "    \\begin{aligned}\n",
    "&u(x,y,t) = \\frac{-4\\pi e^{\\frac{-5\\pi^2 t}{R}} \\cos{(2\\pi x)} \\sin{(\\pi y)}}{R\\left( 2 + e^{\\frac{-5\\pi^2 t}{R}} \\sin{(2\\pi x)} \\sin{(\\pi y)}\\right)} \\quad ,\n",
    "&v(x,y,t) = \\frac{-2\\pi e^{\\frac{-5\\pi^2 t}{R}} \\sin{(2\\pi x)} \\cos{(\\pi y)}}{R\\left( 2 + e^{\\frac{-5\\pi^2 t}{R}} \\sin{(2\\pi x)} \\sin{(\\pi y)}\\right)} \\\\\n",
    "    \\end{aligned}\n",
    "  \\right\\}\n",
    " \\quad\\text{$(x,y) \\in \\Omega, t \\geq 0$}\n",
    "\\end{equation*}"
   ]
  },
  {
   "cell_type": "markdown",
   "metadata": {},
   "source": [
    "Los siguientes son ejemplos donde conocemos su solución exacta. Sin embargo, recuerde que estos son **casos de prueba**, ya que a la hora de revisar sus funciones serán probadas con otros casos de ejemplo."
   ]
  },
  {
   "cell_type": "markdown",
   "metadata": {},
   "source": [
    "Construya una función que reciba sus aproximaciones $u$,$v$ y muestre en un mismo gráfico con un *widget*:\n",
    "* $u$ aproximado y $u$ real.\n",
    "* $v$ aproximado y $v$ real.\n",
    "* Gráfico de error absoluto entre $u$ aproximado y real, y Gráfico de error entre $v$ aproximado y real.\n",
    "* Tiempo de cómputo de cada método.\n",
    "\n",
    "Donde el *widget* debe variar:\n",
    "* El tiempo $t_k$ a visualizar: para visualizar $u(x, y, t_k)$ y $v(x, y, t_k)$.\n",
    "* La inclinación del gráfico *(elev, azim)*. \n",
    "\n",
    "Por simplicidad, puede asumir $\\Delta x = \\Delta y = 0.1$ y $\\Delta t = 0.01$ para sus gráficos. Además, asuma $R=100$ para la primera ecuación y $R=1000$ para la segunda ecuación (use *colorbars* para mostrar la superficie de cada gráfico). \n",
    "¿En que casos el método implícito conviene sobre el explícito y viceversa? ¿Que sucede con el error y el tiempo a medida que se varía $\\Delta x$, $\\Delta y$ o $\\Delta t$? Concluya.\n",
    "\n",
    "Nota: El tiempo de cómputo de cada algoritmo no debe superar los $30$ segundos."
   ]
  },
  {
   "cell_type": "code",
   "execution_count": 3,
   "metadata": {},
   "outputs": [],
   "source": [
    "def elduarte_plot(X, Y, u, v, u_real,v_real,dt, t=0, elev = 30,azim=30, hmin=0.2,hmax=1):\n",
    "    fig = plt.figure(figsize=(14,14))\n",
    "    #real u\n",
    "    ax = fig.add_subplot(3, 2, 1,projection='3d')\n",
    "    comp_u_real= u_real(Y,X,dt*t)\n",
    "    surf = ax.plot_surface(X,Y,comp_u_real, cmap=cm.coolwarm, vmin=hmin,vmax=hmax)\n",
    "    plt.title(\"Real u\")\n",
    "    ax.view_init(elev,azim)\n",
    "    ax.set_xlim([-0.1,1.1])\n",
    "    ax.set_ylim([-0.1,1.1])\n",
    "    fig.colorbar(surf, shrink=0.5, aspect=5)\n",
    "    #not real u\n",
    "    ax = fig.add_subplot(3, 2, 3,projection='3d')\n",
    "    surf = ax.plot_surface(X,Y,u[:,:,t], cmap=cm.coolwarm, vmin=hmin,vmax=hmax)\n",
    "    plt.title(\"Computed u\")\n",
    "    ax.view_init(elev,azim)\n",
    "    ax.set_xlim([-0.1,1.1])\n",
    "    ax.set_ylim([-0.1,1.1])\n",
    "    fig.colorbar(surf, shrink=0.5, aspect=5)\n",
    "    #error u\n",
    "    ax = fig.add_subplot(3, 2, 5,projection='3d')\n",
    "    surf = ax.plot_surface(X,Y,np.absolute(comp_u_real-u[:,:,t]), cmap=cm.coolwarm, vmin=0,vmax=0.05)\n",
    "    plt.title(\"u Error\")\n",
    "    ax.view_init(elev,azim)\n",
    "    ax.set_xlim([-0.1,1.1])\n",
    "    ax.set_ylim([-0.1,1.1])\n",
    "    fig.colorbar(surf, shrink=0.5, aspect=5)\n",
    "    ########################################\n",
    "    #real v\n",
    "    ax = fig.add_subplot(3, 2, 2,projection='3d')\n",
    "    comp_v_real= v_real(Y,X,dt*t)\n",
    "    surf = ax.plot_surface(X,Y,comp_v_real, cmap=cm.coolwarm, vmin=hmin,vmax=hmax)\n",
    "    plt.title(\"Real v\")\n",
    "    ax.view_init(elev,azim)\n",
    "    ax.set_xlim([-0.1,1.1])\n",
    "    ax.set_ylim([-0.1,1.1])\n",
    "    fig.colorbar(surf, shrink=0.5, aspect=5)\n",
    "    #not real v\n",
    "    ax = fig.add_subplot(3, 2, 4,projection='3d')\n",
    "    surf = ax.plot_surface(X,Y,v[:,:,t], cmap=cm.coolwarm, vmin=hmin,vmax=hmax)\n",
    "    plt.title(\"Computed v\")\n",
    "    ax.view_init(elev,azim)\n",
    "    ax.set_xlim([-0.1,1.1])\n",
    "    ax.set_ylim([-0.1,1.1])\n",
    "    fig.colorbar(surf, shrink=0.5, aspect=5)\n",
    "    #error v\n",
    "    ax = fig.add_subplot(3, 2, 6,projection='3d')\n",
    "    surf = ax.plot_surface(X,Y,np.absolute(comp_v_real-v[:,:,t]), cmap=cm.coolwarm, vmin=0,vmax=0.05)\n",
    "    plt.title(\"v Error\")\n",
    "    ax.view_init(elev,azim)\n",
    "    ax.set_xlim([-0.1,1.1])\n",
    "    ax.set_ylim([-0.1,1.1])\n",
    "    fig.colorbar(surf, shrink=0.5, aspect=5)\n",
    "    \n",
    "    plt.show();"
   ]
  },
  {
   "cell_type": "code",
   "execution_count": 4,
   "metadata": {},
   "outputs": [
    {
     "name": "stdout",
     "output_type": "stream",
     "text": [
      "Tiempo de resolucion para el problema 1 usando el metodo explicito =  0.10338068008422852 seg\n"
     ]
    },
    {
     "data": {
      "application/vnd.jupyter.widget-view+json": {
       "model_id": "e1f3e41bca69478db95e2b920f91357f",
       "version_major": 2,
       "version_minor": 0
      },
      "text/html": [
       "<p>Failed to display Jupyter Widget of type <code>interactive</code>.</p>\n",
       "<p>\n",
       "  If you're reading this message in Jupyter Notebook or JupyterLab, it may mean\n",
       "  that the widgets JavaScript is still loading. If this message persists, it\n",
       "  likely means that the widgets JavaScript library is either not installed or\n",
       "  not enabled. See the <a href=\"https://ipywidgets.readthedocs.io/en/stable/user_install.html\">Jupyter\n",
       "  Widgets Documentation</a> for setup instructions.\n",
       "</p>\n",
       "<p>\n",
       "  If you're reading this message in another notebook frontend (for example, a static\n",
       "  rendering on GitHub or <a href=\"https://nbviewer.jupyter.org/\">NBViewer</a>),\n",
       "  it may mean that your frontend doesn't currently support widgets.\n",
       "</p>\n"
      ],
      "text/plain": [
       "interactive(children=(IntSlider(value=0, description='t', max=199), IntSlider(value=30, description='elev', max=180, step=10), IntSlider(value=30, description='azim', max=360, step=10), Output()), _dom_classes=('widget-interact',))"
      ]
     },
     "metadata": {},
     "output_type": "display_data"
    },
    {
     "data": {
      "text/plain": [
       "<function __main__.elduarte_plot>"
      ]
     },
     "execution_count": 4,
     "metadata": {},
     "output_type": "execute_result"
    }
   ],
   "source": [
    "start = time.time()\n",
    "X,Y,u,v = solve_burger_equation_explicit(p.R1, p.a, p.b, p.c, p.d, p.T1, p.dx1, p.dy1, p.dt1,\n",
    "                                         p.p1u_t_0, p.p1v_t_0,\n",
    "                                         p.p1u_x_a, p.p1u_x_b, p.p1u_y_c, p.p1u_y_d,\n",
    "                                         p.p1v_x_a, p.p1v_x_b, p.p1v_y_c, p.p1v_y_d)   \n",
    "end = time.time()\n",
    "print(\"Tiempo de resolucion para el problema 1 usando el metodo explicito = \", end-start, \"seg\")\n",
    "elev_widget = widgets.IntSlider(min=0,max=180,step=10,value=30)\n",
    "azim_widget = widgets.IntSlider(min=0,max=360,step=10,value=30)\n",
    "widgets.interact(elduarte_plot,t=(0,u.shape[2]-1,1), \n",
    "                                  X = fixed(X),\n",
    "                                  Y = fixed(Y),\n",
    "                                  v = fixed(v),\n",
    "                                  u = fixed(u),\n",
    "                                  u_real = fixed(p.p1u_real),\n",
    "                                  v_real = fixed(p.p1v_real),\n",
    "                                  dt = fixed(p.dt1),\n",
    "                                  elev=elev_widget,\n",
    "                                  azim=azim_widget,\n",
    "                                  hmin = fixed(0.2),\n",
    "                                  hmax = fixed(1),\n",
    "                                    )"
   ]
  },
  {
   "cell_type": "code",
   "execution_count": 5,
   "metadata": {},
   "outputs": [
    {
     "name": "stdout",
     "output_type": "stream",
     "text": [
      "Tiempo de resolucion para el problema 1 usando el metodo explicito =  0.0818941593170166 seg\n"
     ]
    },
    {
     "data": {
      "application/vnd.jupyter.widget-view+json": {
       "model_id": "768a517ad23140fc98853743708d16e4",
       "version_major": 2,
       "version_minor": 0
      },
      "text/html": [
       "<p>Failed to display Jupyter Widget of type <code>interactive</code>.</p>\n",
       "<p>\n",
       "  If you're reading this message in Jupyter Notebook or JupyterLab, it may mean\n",
       "  that the widgets JavaScript is still loading. If this message persists, it\n",
       "  likely means that the widgets JavaScript library is either not installed or\n",
       "  not enabled. See the <a href=\"https://ipywidgets.readthedocs.io/en/stable/user_install.html\">Jupyter\n",
       "  Widgets Documentation</a> for setup instructions.\n",
       "</p>\n",
       "<p>\n",
       "  If you're reading this message in another notebook frontend (for example, a static\n",
       "  rendering on GitHub or <a href=\"https://nbviewer.jupyter.org/\">NBViewer</a>),\n",
       "  it may mean that your frontend doesn't currently support widgets.\n",
       "</p>\n"
      ],
      "text/plain": [
       "interactive(children=(IntSlider(value=0, description='t', max=199), IntSlider(value=30, description='elev', max=180, step=10), IntSlider(value=30, description='azim', max=360, step=10), Output()), _dom_classes=('widget-interact',))"
      ]
     },
     "metadata": {},
     "output_type": "display_data"
    },
    {
     "data": {
      "text/plain": [
       "<function __main__.elduarte_plot>"
      ]
     },
     "execution_count": 5,
     "metadata": {},
     "output_type": "execute_result"
    }
   ],
   "source": [
    "start = time.time()\n",
    "X,Y,u,v = solve_burger_equation_explicit(p.R2, p.a, p.b, p.c, p.d, p.T1, p.dx1, p.dy1, p.dt1,\n",
    "                                         p.p2u_t_0, p.p2v_t_0,\n",
    "                                         p.p2u_x_a, p.p2u_x_b, p.p2u_y_c, p.p2u_y_d,\n",
    "                                         p.p2v_x_a, p.p2v_x_b, p.p2v_y_c, p.p2v_y_d)   \n",
    "end = time.time()\n",
    "print(\"Tiempo de resolucion para el problema 1 usando el metodo explicito = \", end-start, \"seg\")\n",
    "elev_widget = widgets.IntSlider(min=0,max=180,step=10,value=30)\n",
    "azim_widget = widgets.IntSlider(min=0,max=360,step=10,value=30)\n",
    "widgets.interact(elduarte_plot,t=(0,u.shape[2]-1,1), \n",
    "                                  X = fixed(X),\n",
    "                                  Y = fixed(Y),\n",
    "                                  v = fixed(v),\n",
    "                                  u = fixed(u),\n",
    "                                  u_real = fixed(p.p2u_real),\n",
    "                                  v_real = fixed(p.p2v_real),\n",
    "                                  dt = fixed(p.dt1),\n",
    "                                  elev=elev_widget,\n",
    "                                  azim=azim_widget,\n",
    "                                  hmin=fixed(-0.006),\n",
    "                                  hmax=fixed(0.006)\n",
    "                                    )"
   ]
  },
  {
   "cell_type": "code",
   "execution_count": 6,
   "metadata": {},
   "outputs": [
    {
     "name": "stdout",
     "output_type": "stream",
     "text": [
      "Tiempo de resolucion para el problema 1 usando el metodo implicito =  17.471848487854004 seg\n"
     ]
    },
    {
     "data": {
      "application/vnd.jupyter.widget-view+json": {
       "model_id": "910e400d2e95436db82d29465f4427cd",
       "version_major": 2,
       "version_minor": 0
      },
      "text/html": [
       "<p>Failed to display Jupyter Widget of type <code>interactive</code>.</p>\n",
       "<p>\n",
       "  If you're reading this message in Jupyter Notebook or JupyterLab, it may mean\n",
       "  that the widgets JavaScript is still loading. If this message persists, it\n",
       "  likely means that the widgets JavaScript library is either not installed or\n",
       "  not enabled. See the <a href=\"https://ipywidgets.readthedocs.io/en/stable/user_install.html\">Jupyter\n",
       "  Widgets Documentation</a> for setup instructions.\n",
       "</p>\n",
       "<p>\n",
       "  If you're reading this message in another notebook frontend (for example, a static\n",
       "  rendering on GitHub or <a href=\"https://nbviewer.jupyter.org/\">NBViewer</a>),\n",
       "  it may mean that your frontend doesn't currently support widgets.\n",
       "</p>\n"
      ],
      "text/plain": [
       "interactive(children=(IntSlider(value=0, description='t', max=199), IntSlider(value=30, description='elev', max=180, step=10), IntSlider(value=30, description='azim', max=360, step=10), Output()), _dom_classes=('widget-interact',))"
      ]
     },
     "metadata": {},
     "output_type": "display_data"
    },
    {
     "data": {
      "text/plain": [
       "<function __main__.elduarte_plot>"
      ]
     },
     "execution_count": 6,
     "metadata": {},
     "output_type": "execute_result"
    }
   ],
   "source": [
    "start = time.time()\n",
    "X,Y,u,v = solve_burger_equation_implicit(p.R1, p.a, p.b, p.c, p.d, p.T1, p.dx1, p.dy1, p.dt1,\n",
    "                                         p.p1u_t_0, p.p1v_t_0,\n",
    "                                         p.p1u_x_a, p.p1u_x_b, p.p1u_y_c, p.p1u_y_d,\n",
    "                                         p.p1v_x_a, p.p1v_x_b, p.p1v_y_c, p.p1v_y_d)   \n",
    "end = time.time()\n",
    "print(\"Tiempo de resolucion para el problema 1 usando el metodo implicito = \", end-start, \"seg\")\n",
    "elev_widget = widgets.IntSlider(min=0,max=180,step=10,value=30)\n",
    "azim_widget = widgets.IntSlider(min=0,max=360,step=10,value=30)\n",
    "widgets.interact(elduarte_plot,t=(0,u.shape[2]-1,1), \n",
    "                                  X = fixed(X),\n",
    "                                  Y = fixed(Y),\n",
    "                                  v = fixed(v),\n",
    "                                  u = fixed(u),\n",
    "                                  u_real = fixed(p.p1u_real),\n",
    "                                  v_real = fixed(p.p1v_real),\n",
    "                                  dt = fixed(p.dt1),\n",
    "                                  elev=elev_widget,\n",
    "                                  azim=azim_widget,\n",
    "                                  hmin = fixed(0.2),\n",
    "                                  hmax = fixed(1),\n",
    "                                    )"
   ]
  },
  {
   "cell_type": "code",
   "execution_count": 7,
   "metadata": {},
   "outputs": [
    {
     "name": "stdout",
     "output_type": "stream",
     "text": [
      "Tiempo de resolucion para el problema 1 usando el metodo implicito =  16.502079963684082 seg\n"
     ]
    },
    {
     "data": {
      "application/vnd.jupyter.widget-view+json": {
       "model_id": "b5ce9df7f727450594cd107f373b9845",
       "version_major": 2,
       "version_minor": 0
      },
      "text/html": [
       "<p>Failed to display Jupyter Widget of type <code>interactive</code>.</p>\n",
       "<p>\n",
       "  If you're reading this message in Jupyter Notebook or JupyterLab, it may mean\n",
       "  that the widgets JavaScript is still loading. If this message persists, it\n",
       "  likely means that the widgets JavaScript library is either not installed or\n",
       "  not enabled. See the <a href=\"https://ipywidgets.readthedocs.io/en/stable/user_install.html\">Jupyter\n",
       "  Widgets Documentation</a> for setup instructions.\n",
       "</p>\n",
       "<p>\n",
       "  If you're reading this message in another notebook frontend (for example, a static\n",
       "  rendering on GitHub or <a href=\"https://nbviewer.jupyter.org/\">NBViewer</a>),\n",
       "  it may mean that your frontend doesn't currently support widgets.\n",
       "</p>\n"
      ],
      "text/plain": [
       "interactive(children=(IntSlider(value=0, description='t', max=199), IntSlider(value=30, description='elev', max=180, step=10), IntSlider(value=30, description='azim', max=360, step=10), Output()), _dom_classes=('widget-interact',))"
      ]
     },
     "metadata": {},
     "output_type": "display_data"
    },
    {
     "data": {
      "text/plain": [
       "<function __main__.elduarte_plot>"
      ]
     },
     "execution_count": 7,
     "metadata": {},
     "output_type": "execute_result"
    }
   ],
   "source": [
    "start = time.time()\n",
    "X,Y,u,v = solve_burger_equation_implicit(p.R2, p.a, p.b, p.c, p.d, p.T1, p.dx1, p.dy1, p.dt1,\n",
    "                                         p.p2u_t_0, p.p2v_t_0,\n",
    "                                         p.p2u_x_a, p.p2u_x_b, p.p2u_y_c, p.p2u_y_d,\n",
    "                                         p.p2v_x_a, p.p2v_x_b, p.p2v_y_c, p.p2v_y_d)   \n",
    "end = time.time()\n",
    "print(\"Tiempo de resolucion para el problema 1 usando el metodo implicito = \", end-start, \"seg\")\n",
    "elev_widget = widgets.IntSlider(min=0,max=180,step=10,value=30)\n",
    "azim_widget = widgets.IntSlider(min=0,max=360,step=10,value=30)\n",
    "widgets.interact(elduarte_plot,t=(0,u.shape[2]-1,1), \n",
    "                                  X = fixed(X),\n",
    "                                  Y = fixed(Y),\n",
    "                                  v = fixed(v),\n",
    "                                  u = fixed(u),\n",
    "                                  u_real = fixed(p.p2u_real),\n",
    "                                  v_real = fixed(p.p2v_real),\n",
    "                                  dt = fixed(p.dt1),\n",
    "                                  elev=elev_widget,\n",
    "                                  azim=azim_widget,\n",
    "                                  hmin=fixed(-0.006),\n",
    "                                  hmax=fixed(0.006)\n",
    "                                    )"
   ]
  },
  {
   "cell_type": "markdown",
   "metadata": {},
   "source": [
    "# conclusiones\n",
    "\n",
    "en ninguno de los 2 casos resulta conveniente usar un metodo implicito por el alto tiempo de ejecucion y errores comparados con el metodo explicito. el error en los bordes del problema 2 esta asociado a las condiciones de borde "
   ]
  },
  {
   "cell_type": "markdown",
   "metadata": {},
   "source": [
    "# Instrucciones:\n",
    "\n",
    "* La estructura del laboratorio es la siguiente:\n",
    "     1. Título, nombre de estudiante, email y rol.\n",
    "     2. Introducción.\n",
    "     3. Desarrollo y análisis de resultados.\n",
    "     4. Conclusiones.\n",
    "     5. Referencias.\n",
    "* El laboratorio debe ser realizado en `Jupyter Notebook` (`Python3`).\n",
    "* Se evaluará la correcta utilización de librerias `NumPy`, `SciPy`, `SymPy`, `Matplotlib` y `ipywidgets`, así como la correcta implementación de algoritmos vectorizados.\n",
    "* El archivo de entrega debe denominarse Tarea5-rol.tar.gz y debe contener un directorio con todos los archivos necesarios para ejecutar el notebook, junto con un archivo README indicando explícitamente las librerías o módulos utilizados, nombre y rol del estudiante. El _notebook_ debe tener como nombre Tarea5-rol.ipynb.\n",
    "* El descuento por día de atraso será de $30$ puntos, con un máximo de 1 día de atraso. No se recibirán entregas después de este día.\n",
    "* Debe citar toda fuente de código externo. \n",
    "* El trabajo es personal, no se permite compartir código ni utilizar código de otros, aunque sí se sugiere discutir aspectos generales con sus compañeros.\n",
    "* En caso de sospecha de no cumplimiento de estas instrucciones, se solicitará al involucrado o la involucrada a aclarar la situación. Dependiendo de la justificación se decidirá su calificación, la cual podrá o no ser penalizada.\n",
    "* El no seguir estas instrucciones, implica descuentos en su nota obtenida."
   ]
  },
  {
   "cell_type": "markdown",
   "metadata": {},
   "source": [
    "<a id='ref'></a>\n",
    "# Referencias\n",
    "\n",
    "- [1] https://www.sciencedirect.com/science/article/pii/S0065215608701005\n",
    "\n",
    "\n",
    "- [2] https://www.ams.org/journals/qam/1951-09-03/S0033-569X-1951-42889-X/S0033-569X-1951-42889-X.pdf"
   ]
  }
 ],
 "metadata": {
  "kernelspec": {
   "display_name": "Python 3",
   "language": "python",
   "name": "python3"
  },
  "language_info": {
   "codemirror_mode": {
    "name": "ipython",
    "version": 3
   },
   "file_extension": ".py",
   "mimetype": "text/x-python",
   "name": "python",
   "nbconvert_exporter": "python",
   "pygments_lexer": "ipython3",
   "version": "3.4.3"
  }
 },
 "nbformat": 4,
 "nbformat_minor": 2
}
